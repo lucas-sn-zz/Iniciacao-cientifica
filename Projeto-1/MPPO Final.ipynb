{
 "cells": [
  {
   "cell_type": "markdown",
   "metadata": {},
   "source": [
    "# <h1 align=\"center\">TRABALHO MPPO </h1> "
   ]
  },
  {
   "cell_type": "markdown",
   "metadata": {},
   "source": [
    "<h3 align=\"right\">Autores: Marcelle Cordeiro e Frederico Barroso</h3> "
   ]
  },
  {
   "cell_type": "markdown",
   "metadata": {},
   "source": [
    "# <h1 align=\"center\">Apendice A: Refinamento dos dados </h1> "
   ]
  },
  {
   "cell_type": "code",
   "execution_count": 1,
   "metadata": {},
   "outputs": [],
   "source": [
    "import xlrd \n",
    "import pandas as pd\n",
    "from pandas import ExcelWriter\n",
    "from pandas import ExcelFile\n",
    "import numpy as np"
   ]
  },
  {
   "cell_type": "code",
   "execution_count": 2,
   "metadata": {},
   "outputs": [],
   "source": [
    "dados = pd.read_excel(\"TABELA_INTERRUPCAO_NOVOS_CONJUNTOS_1T_2018.xlsx\", sheet_name = 'Relatorio_Novos_Conjuntos_1T_20') "
   ]
  },
  {
   "cell_type": "code",
   "execution_count": 3,
   "metadata": {},
   "outputs": [
    {
     "data": {
      "text/plain": [
       "(88424, 41)"
      ]
     },
     "execution_count": 3,
     "metadata": {},
     "output_type": "execute_result"
    }
   ],
   "source": [
    "dados.shape #O volume de dados é muito grande vamos precisar reduzir"
   ]
  },
  {
   "cell_type": "code",
   "execution_count": 4,
   "metadata": {},
   "outputs": [
    {
     "data": {
      "text/html": [
       "<div>\n",
       "<style scoped>\n",
       "    .dataframe tbody tr th:only-of-type {\n",
       "        vertical-align: middle;\n",
       "    }\n",
       "\n",
       "    .dataframe tbody tr th {\n",
       "        vertical-align: top;\n",
       "    }\n",
       "\n",
       "    .dataframe thead th {\n",
       "        text-align: right;\n",
       "    }\n",
       "</style>\n",
       "<table border=\"1\" class=\"dataframe\">\n",
       "  <thead>\n",
       "    <tr style=\"text-align: right;\">\n",
       "      <th></th>\n",
       "      <th>NUM_DOCUMENTO</th>\n",
       "      <th>NUM_ID_INTERRUPCAO</th>\n",
       "      <th>NUM_ID_ITEM</th>\n",
       "      <th>LOCALORIGEM</th>\n",
       "      <th>LOCAL</th>\n",
       "      <th>COD_CONJUNTO</th>\n",
       "      <th>COD_SIGLA</th>\n",
       "      <th>COD_CONJUNTO_ANEEL</th>\n",
       "      <th>DES_CONJUNTO</th>\n",
       "      <th>QTD_CONS</th>\n",
       "      <th>...</th>\n",
       "      <th>MIN_DURACAO</th>\n",
       "      <th>COD_PROPR_TRAFO</th>\n",
       "      <th>NUM_RELIGAM_CALCULADO</th>\n",
       "      <th>NUM_FREQUENCIA</th>\n",
       "      <th>CONS_TOTAL</th>\n",
       "      <th>COD_TIP_EXPURGO</th>\n",
       "      <th>DES_TIP_EXPURGO</th>\n",
       "      <th>COD_SIGLA_EXPURGO</th>\n",
       "      <th>CONS_CONJUNTO</th>\n",
       "      <th>DEST_DATETIME</th>\n",
       "    </tr>\n",
       "  </thead>\n",
       "  <tbody>\n",
       "    <tr>\n",
       "      <th>0</th>\n",
       "      <td>60646994</td>\n",
       "      <td>2664119</td>\n",
       "      <td>1</td>\n",
       "      <td>565</td>\n",
       "      <td>551</td>\n",
       "      <td>18</td>\n",
       "      <td>5015</td>\n",
       "      <td>15015</td>\n",
       "      <td>RAMOS AEREO</td>\n",
       "      <td>17</td>\n",
       "      <td>...</td>\n",
       "      <td>0.00</td>\n",
       "      <td>NaN</td>\n",
       "      <td>NaN</td>\n",
       "      <td>1</td>\n",
       "      <td>0</td>\n",
       "      <td>0</td>\n",
       "      <td>SEM EXPURGO</td>\n",
       "      <td>NaN</td>\n",
       "      <td>0</td>\n",
       "      <td>20180612</td>\n",
       "    </tr>\n",
       "    <tr>\n",
       "      <th>1</th>\n",
       "      <td>60646994</td>\n",
       "      <td>2664119</td>\n",
       "      <td>2</td>\n",
       "      <td>565</td>\n",
       "      <td>565</td>\n",
       "      <td>18</td>\n",
       "      <td>5015</td>\n",
       "      <td>15015</td>\n",
       "      <td>RAMOS AEREO</td>\n",
       "      <td>1</td>\n",
       "      <td>...</td>\n",
       "      <td>0.00</td>\n",
       "      <td>NaN</td>\n",
       "      <td>NaN</td>\n",
       "      <td>1</td>\n",
       "      <td>0</td>\n",
       "      <td>0</td>\n",
       "      <td>SEM EXPURGO</td>\n",
       "      <td>NaN</td>\n",
       "      <td>0</td>\n",
       "      <td>20180612</td>\n",
       "    </tr>\n",
       "    <tr>\n",
       "      <th>2</th>\n",
       "      <td>60646994</td>\n",
       "      <td>2664117</td>\n",
       "      <td>1</td>\n",
       "      <td>550</td>\n",
       "      <td>551</td>\n",
       "      <td>18</td>\n",
       "      <td>5015</td>\n",
       "      <td>15015</td>\n",
       "      <td>RAMOS AEREO</td>\n",
       "      <td>1284</td>\n",
       "      <td>...</td>\n",
       "      <td>0.17</td>\n",
       "      <td>NaN</td>\n",
       "      <td>NaN</td>\n",
       "      <td>1</td>\n",
       "      <td>0</td>\n",
       "      <td>0</td>\n",
       "      <td>SEM EXPURGO</td>\n",
       "      <td>NaN</td>\n",
       "      <td>0</td>\n",
       "      <td>20180612</td>\n",
       "    </tr>\n",
       "    <tr>\n",
       "      <th>3</th>\n",
       "      <td>60646994</td>\n",
       "      <td>2664117</td>\n",
       "      <td>2</td>\n",
       "      <td>550</td>\n",
       "      <td>550</td>\n",
       "      <td>18</td>\n",
       "      <td>5015</td>\n",
       "      <td>15015</td>\n",
       "      <td>RAMOS AEREO</td>\n",
       "      <td>415</td>\n",
       "      <td>...</td>\n",
       "      <td>0.17</td>\n",
       "      <td>NaN</td>\n",
       "      <td>NaN</td>\n",
       "      <td>1</td>\n",
       "      <td>0</td>\n",
       "      <td>0</td>\n",
       "      <td>SEM EXPURGO</td>\n",
       "      <td>NaN</td>\n",
       "      <td>0</td>\n",
       "      <td>20180612</td>\n",
       "    </tr>\n",
       "    <tr>\n",
       "      <th>4</th>\n",
       "      <td>60657310</td>\n",
       "      <td>2663249</td>\n",
       "      <td>1</td>\n",
       "      <td>786</td>\n",
       "      <td>786</td>\n",
       "      <td>99</td>\n",
       "      <td>5087</td>\n",
       "      <td>15087</td>\n",
       "      <td>TRES RIOS AEREO AT/MT</td>\n",
       "      <td>101</td>\n",
       "      <td>...</td>\n",
       "      <td>44.00</td>\n",
       "      <td>P</td>\n",
       "      <td>NaN</td>\n",
       "      <td>1</td>\n",
       "      <td>0</td>\n",
       "      <td>0</td>\n",
       "      <td>SEM EXPURGO</td>\n",
       "      <td>NaN</td>\n",
       "      <td>0</td>\n",
       "      <td>20180612</td>\n",
       "    </tr>\n",
       "  </tbody>\n",
       "</table>\n",
       "<p>5 rows × 41 columns</p>\n",
       "</div>"
      ],
      "text/plain": [
       "   NUM_DOCUMENTO  NUM_ID_INTERRUPCAO  NUM_ID_ITEM  LOCALORIGEM  LOCAL  \\\n",
       "0       60646994             2664119            1          565    551   \n",
       "1       60646994             2664119            2          565    565   \n",
       "2       60646994             2664117            1          550    551   \n",
       "3       60646994             2664117            2          550    550   \n",
       "4       60657310             2663249            1          786    786   \n",
       "\n",
       "   COD_CONJUNTO  COD_SIGLA  COD_CONJUNTO_ANEEL           DES_CONJUNTO  \\\n",
       "0            18       5015               15015            RAMOS AEREO   \n",
       "1            18       5015               15015            RAMOS AEREO   \n",
       "2            18       5015               15015            RAMOS AEREO   \n",
       "3            18       5015               15015            RAMOS AEREO   \n",
       "4            99       5087               15087  TRES RIOS AEREO AT/MT   \n",
       "\n",
       "   QTD_CONS      ...        MIN_DURACAO  COD_PROPR_TRAFO  \\\n",
       "0        17      ...               0.00              NaN   \n",
       "1         1      ...               0.00              NaN   \n",
       "2      1284      ...               0.17              NaN   \n",
       "3       415      ...               0.17              NaN   \n",
       "4       101      ...              44.00                P   \n",
       "\n",
       "   NUM_RELIGAM_CALCULADO NUM_FREQUENCIA CONS_TOTAL COD_TIP_EXPURGO  \\\n",
       "0                    NaN              1          0               0   \n",
       "1                    NaN              1          0               0   \n",
       "2                    NaN              1          0               0   \n",
       "3                    NaN              1          0               0   \n",
       "4                    NaN              1          0               0   \n",
       "\n",
       "   DES_TIP_EXPURGO  COD_SIGLA_EXPURGO  CONS_CONJUNTO  DEST_DATETIME  \n",
       "0      SEM EXPURGO                NaN              0       20180612  \n",
       "1      SEM EXPURGO                NaN              0       20180612  \n",
       "2      SEM EXPURGO                NaN              0       20180612  \n",
       "3      SEM EXPURGO                NaN              0       20180612  \n",
       "4      SEM EXPURGO                NaN              0       20180612  \n",
       "\n",
       "[5 rows x 41 columns]"
      ]
     },
     "execution_count": 4,
     "metadata": {},
     "output_type": "execute_result"
    }
   ],
   "source": [
    "dados.head()"
   ]
  },
  {
   "cell_type": "code",
   "execution_count": 5,
   "metadata": {},
   "outputs": [
    {
     "data": {
      "text/plain": [
       "Index(['NUM_DOCUMENTO', 'NUM_ID_INTERRUPCAO', 'NUM_ID_ITEM', 'LOCALORIGEM',\n",
       "       'LOCAL', 'COD_CONJUNTO', 'COD_SIGLA', 'COD_CONJUNTO_ANEEL',\n",
       "       'DES_CONJUNTO', 'QTD_CONS', 'QTD_CONS_DIST', 'QTD_CONS_PRIM',\n",
       "       'QTD_CONS_RUR', 'DAT_INICIO', 'INTERRUPCAO_INICIO',\n",
       "       'INTERRUPCAO_TERMINO', 'GRUPO_CAUSA', 'CAUSA', 'COD_EQUIP_DANIF',\n",
       "       'COD_TIP_COND_ATMOSF', 'COD_TIPO_TRECHO', 'COD_TIPO_REDE',\n",
       "       'DES_LABEL_ALIMENT', 'COD_FASE_TRAFO', 'COD_POT_TRAFO',\n",
       "       'COD_TIPO_DISP_OPER', 'COD_EQUIP_OPER', 'DES_LABEL_DISP_OPER',\n",
       "       'TAG_FASE_A', 'TAG_FASE_B', 'TAG_FASE_C', 'MIN_DURACAO',\n",
       "       'COD_PROPR_TRAFO', 'NUM_RELIGAM_CALCULADO', 'NUM_FREQUENCIA',\n",
       "       'CONS_TOTAL', 'COD_TIP_EXPURGO', 'DES_TIP_EXPURGO', 'COD_SIGLA_EXPURGO',\n",
       "       'CONS_CONJUNTO', 'DEST_DATETIME'],\n",
       "      dtype='object')"
      ]
     },
     "execution_count": 5,
     "metadata": {},
     "output_type": "execute_result"
    }
   ],
   "source": [
    "dados.columns #vamos selecionar quais colunas serão mantidas para o trabalho"
   ]
  },
  {
   "cell_type": "code",
   "execution_count": 6,
   "metadata": {},
   "outputs": [],
   "source": [
    "descricao_das_colunas= pd.read_excel(\"TABELA_INTERRUPCAO_NOVOS_CONJUNTOS_1T_2018.xlsx\", sheet_name = 'DESCRICAO') "
   ]
  },
  {
   "cell_type": "code",
   "execution_count": 7,
   "metadata": {},
   "outputs": [
    {
     "data": {
      "text/plain": [
       "(41, 5)"
      ]
     },
     "execution_count": 7,
     "metadata": {},
     "output_type": "execute_result"
    }
   ],
   "source": [
    "descricao_das_colunas.shape"
   ]
  },
  {
   "cell_type": "code",
   "execution_count": 8,
   "metadata": {},
   "outputs": [
    {
     "data": {
      "text/html": [
       "<div>\n",
       "<style scoped>\n",
       "    .dataframe tbody tr th:only-of-type {\n",
       "        vertical-align: middle;\n",
       "    }\n",
       "\n",
       "    .dataframe tbody tr th {\n",
       "        vertical-align: top;\n",
       "    }\n",
       "\n",
       "    .dataframe thead th {\n",
       "        text-align: right;\n",
       "    }\n",
       "</style>\n",
       "<table border=\"1\" class=\"dataframe\">\n",
       "  <thead>\n",
       "    <tr style=\"text-align: right;\">\n",
       "      <th></th>\n",
       "      <th>CAMPO</th>\n",
       "      <th>DESCRIÇÃO</th>\n",
       "      <th>Unnamed: 2</th>\n",
       "      <th>Unnamed: 3</th>\n",
       "      <th>Desconsiderar</th>\n",
       "    </tr>\n",
       "  </thead>\n",
       "  <tbody>\n",
       "    <tr>\n",
       "      <th>0</th>\n",
       "      <td>NUM_DOCUMENTO</td>\n",
       "      <td>ID da ordem / documento</td>\n",
       "      <td>NaN</td>\n",
       "      <td>NaN</td>\n",
       "      <td>NaN</td>\n",
       "    </tr>\n",
       "    <tr>\n",
       "      <th>1</th>\n",
       "      <td>NUM_ID_INTERRUPCAO</td>\n",
       "      <td>ID da interrupção</td>\n",
       "      <td>NaN</td>\n",
       "      <td>NaN</td>\n",
       "      <td>NaN</td>\n",
       "    </tr>\n",
       "    <tr>\n",
       "      <th>2</th>\n",
       "      <td>NUM_ID_ITEM</td>\n",
       "      <td>ID do item da interrupção</td>\n",
       "      <td>NaN</td>\n",
       "      <td>NaN</td>\n",
       "      <td>NaN</td>\n",
       "    </tr>\n",
       "    <tr>\n",
       "      <th>3</th>\n",
       "      <td>LOCALORIGEM</td>\n",
       "      <td>Local da origem da falha para calcular indicad...</td>\n",
       "      <td>NaN</td>\n",
       "      <td>NaN</td>\n",
       "      <td>NaN</td>\n",
       "    </tr>\n",
       "    <tr>\n",
       "      <th>4</th>\n",
       "      <td>LOCAL</td>\n",
       "      <td>Local impactado</td>\n",
       "      <td>NaN</td>\n",
       "      <td>NaN</td>\n",
       "      <td>NaN</td>\n",
       "    </tr>\n",
       "    <tr>\n",
       "      <th>5</th>\n",
       "      <td>COD_CONJUNTO</td>\n",
       "      <td>Código de conjunto</td>\n",
       "      <td>NaN</td>\n",
       "      <td>NaN</td>\n",
       "      <td>NaN</td>\n",
       "    </tr>\n",
       "    <tr>\n",
       "      <th>6</th>\n",
       "      <td>COD_SIGLA</td>\n",
       "      <td>Código de conjunto</td>\n",
       "      <td>NaN</td>\n",
       "      <td>NaN</td>\n",
       "      <td>NaN</td>\n",
       "    </tr>\n",
       "    <tr>\n",
       "      <th>7</th>\n",
       "      <td>COD_CONJUNTO_ANEEL</td>\n",
       "      <td>Código de conjunto</td>\n",
       "      <td>NaN</td>\n",
       "      <td>NaN</td>\n",
       "      <td>NaN</td>\n",
       "    </tr>\n",
       "    <tr>\n",
       "      <th>8</th>\n",
       "      <td>DES_CONJUNTO</td>\n",
       "      <td>Nome do conjunto aneel</td>\n",
       "      <td>NaN</td>\n",
       "      <td>NaN</td>\n",
       "      <td>NaN</td>\n",
       "    </tr>\n",
       "    <tr>\n",
       "      <th>9</th>\n",
       "      <td>QTD_CONS</td>\n",
       "      <td>Total de consumidores interrompidos (CI)</td>\n",
       "      <td>NaN</td>\n",
       "      <td>NaN</td>\n",
       "      <td>NaN</td>\n",
       "    </tr>\n",
       "    <tr>\n",
       "      <th>10</th>\n",
       "      <td>QTD_CONS_DIST</td>\n",
       "      <td>Quantidade de consumidores de distribuição int...</td>\n",
       "      <td>NaN</td>\n",
       "      <td>NaN</td>\n",
       "      <td>NaN</td>\n",
       "    </tr>\n",
       "    <tr>\n",
       "      <th>11</th>\n",
       "      <td>QTD_CONS_PRIM</td>\n",
       "      <td>Quantidade de consumidores primários (MT) inte...</td>\n",
       "      <td>NaN</td>\n",
       "      <td>NaN</td>\n",
       "      <td>NaN</td>\n",
       "    </tr>\n",
       "    <tr>\n",
       "      <th>12</th>\n",
       "      <td>QTD_CONS_RUR</td>\n",
       "      <td>Quantidade de consumidores rural interrompidos</td>\n",
       "      <td>NaN</td>\n",
       "      <td>NaN</td>\n",
       "      <td>NaN</td>\n",
       "    </tr>\n",
       "    <tr>\n",
       "      <th>13</th>\n",
       "      <td>DAT_INICIO</td>\n",
       "      <td>Data início da interrupção</td>\n",
       "      <td>NaN</td>\n",
       "      <td>NaN</td>\n",
       "      <td>NaN</td>\n",
       "    </tr>\n",
       "    <tr>\n",
       "      <th>14</th>\n",
       "      <td>INTERRUPCAO_INICIO</td>\n",
       "      <td>Data e hora início da interrupção</td>\n",
       "      <td>NaN</td>\n",
       "      <td>NaN</td>\n",
       "      <td>NaN</td>\n",
       "    </tr>\n",
       "    <tr>\n",
       "      <th>15</th>\n",
       "      <td>INTERRUPCAO_TERMINO</td>\n",
       "      <td>Data e hora fim da interrupção</td>\n",
       "      <td>NaN</td>\n",
       "      <td>NaN</td>\n",
       "      <td>NaN</td>\n",
       "    </tr>\n",
       "    <tr>\n",
       "      <th>16</th>\n",
       "      <td>GRUPO_CAUSA</td>\n",
       "      <td>Agrupamento de causa</td>\n",
       "      <td>NaN</td>\n",
       "      <td>NaN</td>\n",
       "      <td>NaN</td>\n",
       "    </tr>\n",
       "    <tr>\n",
       "      <th>17</th>\n",
       "      <td>CAUSA</td>\n",
       "      <td>Causa Individual</td>\n",
       "      <td>NaN</td>\n",
       "      <td>NaN</td>\n",
       "      <td>NaN</td>\n",
       "    </tr>\n",
       "    <tr>\n",
       "      <th>18</th>\n",
       "      <td>COD_EQUIP_DANIF</td>\n",
       "      <td>Campo vazio</td>\n",
       "      <td>NaN</td>\n",
       "      <td>NaN</td>\n",
       "      <td>NaN</td>\n",
       "    </tr>\n",
       "    <tr>\n",
       "      <th>19</th>\n",
       "      <td>COD_TIP_COND_ATMOSF</td>\n",
       "      <td>Preenchimento manual (normal/anormal) com erro...</td>\n",
       "      <td>NaN</td>\n",
       "      <td>NaN</td>\n",
       "      <td>NaN</td>\n",
       "    </tr>\n",
       "    <tr>\n",
       "      <th>20</th>\n",
       "      <td>COD_TIPO_TRECHO</td>\n",
       "      <td>Tipo de trecho da interrupção (tabela externa)</td>\n",
       "      <td>NaN</td>\n",
       "      <td>NaN</td>\n",
       "      <td>NaN</td>\n",
       "    </tr>\n",
       "    <tr>\n",
       "      <th>21</th>\n",
       "      <td>COD_TIPO_REDE</td>\n",
       "      <td>Erro de preenchimento</td>\n",
       "      <td>NaN</td>\n",
       "      <td>NaN</td>\n",
       "      <td>NaN</td>\n",
       "    </tr>\n",
       "    <tr>\n",
       "      <th>22</th>\n",
       "      <td>DES_LABEL_ALIMENT</td>\n",
       "      <td>Descrição do alimentador</td>\n",
       "      <td>NaN</td>\n",
       "      <td>NaN</td>\n",
       "      <td>NaN</td>\n",
       "    </tr>\n",
       "    <tr>\n",
       "      <th>23</th>\n",
       "      <td>COD_FASE_TRAFO</td>\n",
       "      <td>Campo vazio</td>\n",
       "      <td>NaN</td>\n",
       "      <td>NaN</td>\n",
       "      <td>NaN</td>\n",
       "    </tr>\n",
       "    <tr>\n",
       "      <th>24</th>\n",
       "      <td>COD_POT_TRAFO</td>\n",
       "      <td>Potência do transformador envolvido na interru...</td>\n",
       "      <td>NaN</td>\n",
       "      <td>NaN</td>\n",
       "      <td>NaN</td>\n",
       "    </tr>\n",
       "    <tr>\n",
       "      <th>25</th>\n",
       "      <td>COD_TIPO_DISP_OPER</td>\n",
       "      <td>c = consumidor / r = ramal / e = equipamento /...</td>\n",
       "      <td>NaN</td>\n",
       "      <td>NaN</td>\n",
       "      <td>NaN</td>\n",
       "    </tr>\n",
       "    <tr>\n",
       "      <th>26</th>\n",
       "      <td>COD_EQUIP_OPER</td>\n",
       "      <td>Código referente ao equipamento/dispositivo op...</td>\n",
       "      <td>NaN</td>\n",
       "      <td>NaN</td>\n",
       "      <td>NaN</td>\n",
       "    </tr>\n",
       "    <tr>\n",
       "      <th>27</th>\n",
       "      <td>DES_LABEL_DISP_OPER</td>\n",
       "      <td>Descrição do equipamento/dispositivo operado (...</td>\n",
       "      <td>NaN</td>\n",
       "      <td>NaN</td>\n",
       "      <td>NaN</td>\n",
       "    </tr>\n",
       "    <tr>\n",
       "      <th>28</th>\n",
       "      <td>TAG_FASE_A</td>\n",
       "      <td>Campo nulo</td>\n",
       "      <td>NaN</td>\n",
       "      <td>NaN</td>\n",
       "      <td>NaN</td>\n",
       "    </tr>\n",
       "    <tr>\n",
       "      <th>29</th>\n",
       "      <td>TAG_FASE_B</td>\n",
       "      <td>Campo nulo</td>\n",
       "      <td>NaN</td>\n",
       "      <td>NaN</td>\n",
       "      <td>NaN</td>\n",
       "    </tr>\n",
       "    <tr>\n",
       "      <th>30</th>\n",
       "      <td>TAG_FASE_C</td>\n",
       "      <td>Campo nulo</td>\n",
       "      <td>NaN</td>\n",
       "      <td>NaN</td>\n",
       "      <td>NaN</td>\n",
       "    </tr>\n",
       "    <tr>\n",
       "      <th>31</th>\n",
       "      <td>MIN_DURACAO</td>\n",
       "      <td>Duração da interrupção em minutos</td>\n",
       "      <td>NaN</td>\n",
       "      <td>NaN</td>\n",
       "      <td>NaN</td>\n",
       "    </tr>\n",
       "    <tr>\n",
       "      <th>32</th>\n",
       "      <td>COD_PROPR_TRAFO</td>\n",
       "      <td>Desconsiderar</td>\n",
       "      <td>NaN</td>\n",
       "      <td>NaN</td>\n",
       "      <td>NaN</td>\n",
       "    </tr>\n",
       "    <tr>\n",
       "      <th>33</th>\n",
       "      <td>NUM_RELIGAM_CALCULADO</td>\n",
       "      <td>Campo vazio</td>\n",
       "      <td>NaN</td>\n",
       "      <td>NaN</td>\n",
       "      <td>NaN</td>\n",
       "    </tr>\n",
       "    <tr>\n",
       "      <th>34</th>\n",
       "      <td>NUM_FREQUENCIA</td>\n",
       "      <td>Desconsiderar</td>\n",
       "      <td>NaN</td>\n",
       "      <td>NaN</td>\n",
       "      <td>NaN</td>\n",
       "    </tr>\n",
       "    <tr>\n",
       "      <th>35</th>\n",
       "      <td>CONS_TOTAL</td>\n",
       "      <td>Campo não confiável</td>\n",
       "      <td>NaN</td>\n",
       "      <td>NaN</td>\n",
       "      <td>NaN</td>\n",
       "    </tr>\n",
       "    <tr>\n",
       "      <th>36</th>\n",
       "      <td>COD_TIP_EXPURGO</td>\n",
       "      <td>Código do tipo de expurgo</td>\n",
       "      <td>NaN</td>\n",
       "      <td>NaN</td>\n",
       "      <td>NaN</td>\n",
       "    </tr>\n",
       "    <tr>\n",
       "      <th>37</th>\n",
       "      <td>DES_TIP_EXPURGO</td>\n",
       "      <td>Descrição do expurgo</td>\n",
       "      <td>NaN</td>\n",
       "      <td>NaN</td>\n",
       "      <td>NaN</td>\n",
       "    </tr>\n",
       "    <tr>\n",
       "      <th>38</th>\n",
       "      <td>COD_SIGLA_EXPURGO</td>\n",
       "      <td>Sigla do expurgo</td>\n",
       "      <td>NaN</td>\n",
       "      <td>NaN</td>\n",
       "      <td>NaN</td>\n",
       "    </tr>\n",
       "    <tr>\n",
       "      <th>39</th>\n",
       "      <td>CONS_CONJUNTO</td>\n",
       "      <td>Campo não confiável</td>\n",
       "      <td>NaN</td>\n",
       "      <td>NaN</td>\n",
       "      <td>NaN</td>\n",
       "    </tr>\n",
       "    <tr>\n",
       "      <th>40</th>\n",
       "      <td>DEST_DATETIME</td>\n",
       "      <td>Data da extração</td>\n",
       "      <td>NaN</td>\n",
       "      <td>NaN</td>\n",
       "      <td>NaN</td>\n",
       "    </tr>\n",
       "  </tbody>\n",
       "</table>\n",
       "</div>"
      ],
      "text/plain": [
       "                    CAMPO                                          DESCRIÇÃO  \\\n",
       "0           NUM_DOCUMENTO                            ID da ordem / documento   \n",
       "1      NUM_ID_INTERRUPCAO                                  ID da interrupção   \n",
       "2             NUM_ID_ITEM                          ID do item da interrupção   \n",
       "3             LOCALORIGEM  Local da origem da falha para calcular indicad...   \n",
       "4                   LOCAL                                    Local impactado   \n",
       "5            COD_CONJUNTO                                 Código de conjunto   \n",
       "6               COD_SIGLA                                 Código de conjunto   \n",
       "7      COD_CONJUNTO_ANEEL                                 Código de conjunto   \n",
       "8            DES_CONJUNTO                             Nome do conjunto aneel   \n",
       "9                QTD_CONS           Total de consumidores interrompidos (CI)   \n",
       "10          QTD_CONS_DIST  Quantidade de consumidores de distribuição int...   \n",
       "11          QTD_CONS_PRIM  Quantidade de consumidores primários (MT) inte...   \n",
       "12           QTD_CONS_RUR     Quantidade de consumidores rural interrompidos   \n",
       "13             DAT_INICIO                         Data início da interrupção   \n",
       "14     INTERRUPCAO_INICIO                  Data e hora início da interrupção   \n",
       "15    INTERRUPCAO_TERMINO                     Data e hora fim da interrupção   \n",
       "16            GRUPO_CAUSA                               Agrupamento de causa   \n",
       "17                  CAUSA                                   Causa Individual   \n",
       "18        COD_EQUIP_DANIF                                        Campo vazio   \n",
       "19    COD_TIP_COND_ATMOSF  Preenchimento manual (normal/anormal) com erro...   \n",
       "20        COD_TIPO_TRECHO     Tipo de trecho da interrupção (tabela externa)   \n",
       "21          COD_TIPO_REDE                              Erro de preenchimento   \n",
       "22      DES_LABEL_ALIMENT                           Descrição do alimentador   \n",
       "23         COD_FASE_TRAFO                                        Campo vazio   \n",
       "24          COD_POT_TRAFO  Potência do transformador envolvido na interru...   \n",
       "25     COD_TIPO_DISP_OPER  c = consumidor / r = ramal / e = equipamento /...   \n",
       "26         COD_EQUIP_OPER  Código referente ao equipamento/dispositivo op...   \n",
       "27    DES_LABEL_DISP_OPER  Descrição do equipamento/dispositivo operado (...   \n",
       "28             TAG_FASE_A                                         Campo nulo   \n",
       "29             TAG_FASE_B                                         Campo nulo   \n",
       "30             TAG_FASE_C                                         Campo nulo   \n",
       "31            MIN_DURACAO                  Duração da interrupção em minutos   \n",
       "32        COD_PROPR_TRAFO                                      Desconsiderar   \n",
       "33  NUM_RELIGAM_CALCULADO                                        Campo vazio   \n",
       "34         NUM_FREQUENCIA                                      Desconsiderar   \n",
       "35             CONS_TOTAL                                Campo não confiável   \n",
       "36        COD_TIP_EXPURGO                          Código do tipo de expurgo   \n",
       "37        DES_TIP_EXPURGO                               Descrição do expurgo   \n",
       "38      COD_SIGLA_EXPURGO                                   Sigla do expurgo   \n",
       "39          CONS_CONJUNTO                                Campo não confiável   \n",
       "40          DEST_DATETIME                                   Data da extração   \n",
       "\n",
       "    Unnamed: 2  Unnamed: 3  Desconsiderar  \n",
       "0          NaN         NaN            NaN  \n",
       "1          NaN         NaN            NaN  \n",
       "2          NaN         NaN            NaN  \n",
       "3          NaN         NaN            NaN  \n",
       "4          NaN         NaN            NaN  \n",
       "5          NaN         NaN            NaN  \n",
       "6          NaN         NaN            NaN  \n",
       "7          NaN         NaN            NaN  \n",
       "8          NaN         NaN            NaN  \n",
       "9          NaN         NaN            NaN  \n",
       "10         NaN         NaN            NaN  \n",
       "11         NaN         NaN            NaN  \n",
       "12         NaN         NaN            NaN  \n",
       "13         NaN         NaN            NaN  \n",
       "14         NaN         NaN            NaN  \n",
       "15         NaN         NaN            NaN  \n",
       "16         NaN         NaN            NaN  \n",
       "17         NaN         NaN            NaN  \n",
       "18         NaN         NaN            NaN  \n",
       "19         NaN         NaN            NaN  \n",
       "20         NaN         NaN            NaN  \n",
       "21         NaN         NaN            NaN  \n",
       "22         NaN         NaN            NaN  \n",
       "23         NaN         NaN            NaN  \n",
       "24         NaN         NaN            NaN  \n",
       "25         NaN         NaN            NaN  \n",
       "26         NaN         NaN            NaN  \n",
       "27         NaN         NaN            NaN  \n",
       "28         NaN         NaN            NaN  \n",
       "29         NaN         NaN            NaN  \n",
       "30         NaN         NaN            NaN  \n",
       "31         NaN         NaN            NaN  \n",
       "32         NaN         NaN            NaN  \n",
       "33         NaN         NaN            NaN  \n",
       "34         NaN         NaN            NaN  \n",
       "35         NaN         NaN            NaN  \n",
       "36         NaN         NaN            NaN  \n",
       "37         NaN         NaN            NaN  \n",
       "38         NaN         NaN            NaN  \n",
       "39         NaN         NaN            NaN  \n",
       "40         NaN         NaN            NaN  "
      ]
     },
     "execution_count": 8,
     "metadata": {},
     "output_type": "execute_result"
    }
   ],
   "source": [
    "descricao_das_colunas.head(41) #vamos selecionar quais colunas serão mantidas para o trabalho"
   ]
  },
  {
   "cell_type": "code",
   "execution_count": 9,
   "metadata": {},
   "outputs": [],
   "source": [
    "#Usado para excluir colunas inteiras que não seriam úteis para o objetivo do trabalho\n",
    "\n",
    "dados.drop(['NUM_ID_INTERRUPCAO','NUM_ID_ITEM', 'LOCALORIGEM','LOCAL', 'COD_CONJUNTO',\n",
    "            'COD_SIGLA', 'COD_CONJUNTO_ANEEL', 'QTD_CONS_DIST', 'QTD_CONS_PRIM','QTD_CONS_RUR','GRUPO_CAUSA',\n",
    "            'CAUSA', 'COD_EQUIP_DANIF','COD_TIP_COND_ATMOSF', 'COD_TIPO_TRECHO', 'COD_TIPO_REDE',\n",
    "            'DES_LABEL_ALIMENT', 'COD_FASE_TRAFO', 'COD_POT_TRAFO','COD_TIPO_DISP_OPER', 'COD_EQUIP_OPER', \n",
    "            'DES_LABEL_DISP_OPER', 'TAG_FASE_A', 'TAG_FASE_B', 'TAG_FASE_C', 'MIN_DURACAO',\n",
    "            'COD_PROPR_TRAFO', 'NUM_RELIGAM_CALCULADO', 'NUM_FREQUENCIA','CONS_TOTAL','COD_TIP_EXPURGO', \n",
    "            'COD_SIGLA_EXPURGO','CONS_CONJUNTO', 'DEST_DATETIME'], axis=1, inplace = True)"
   ]
  },
  {
   "cell_type": "code",
   "execution_count": 10,
   "metadata": {},
   "outputs": [
    {
     "data": {
      "text/plain": [
       "(88424, 7)"
      ]
     },
     "execution_count": 10,
     "metadata": {},
     "output_type": "execute_result"
    }
   ],
   "source": [
    "dados.shape #Reduziu de 41 colunas para 6"
   ]
  },
  {
   "cell_type": "code",
   "execution_count": 11,
   "metadata": {},
   "outputs": [
    {
     "data": {
      "text/html": [
       "<div>\n",
       "<style scoped>\n",
       "    .dataframe tbody tr th:only-of-type {\n",
       "        vertical-align: middle;\n",
       "    }\n",
       "\n",
       "    .dataframe tbody tr th {\n",
       "        vertical-align: top;\n",
       "    }\n",
       "\n",
       "    .dataframe thead th {\n",
       "        text-align: right;\n",
       "    }\n",
       "</style>\n",
       "<table border=\"1\" class=\"dataframe\">\n",
       "  <thead>\n",
       "    <tr style=\"text-align: right;\">\n",
       "      <th></th>\n",
       "      <th>NUM_DOCUMENTO</th>\n",
       "      <th>DES_CONJUNTO</th>\n",
       "      <th>QTD_CONS</th>\n",
       "      <th>DAT_INICIO</th>\n",
       "      <th>INTERRUPCAO_INICIO</th>\n",
       "      <th>INTERRUPCAO_TERMINO</th>\n",
       "      <th>DES_TIP_EXPURGO</th>\n",
       "    </tr>\n",
       "  </thead>\n",
       "  <tbody>\n",
       "    <tr>\n",
       "      <th>0</th>\n",
       "      <td>60646994</td>\n",
       "      <td>RAMOS AEREO</td>\n",
       "      <td>17</td>\n",
       "      <td>2018-04-02</td>\n",
       "      <td>2018-04-02 00:20:00</td>\n",
       "      <td>2018-04-02 00:20:00</td>\n",
       "      <td>SEM EXPURGO</td>\n",
       "    </tr>\n",
       "    <tr>\n",
       "      <th>1</th>\n",
       "      <td>60646994</td>\n",
       "      <td>RAMOS AEREO</td>\n",
       "      <td>1</td>\n",
       "      <td>2018-04-02</td>\n",
       "      <td>2018-04-02 00:20:00</td>\n",
       "      <td>2018-04-02 00:20:00</td>\n",
       "      <td>SEM EXPURGO</td>\n",
       "    </tr>\n",
       "    <tr>\n",
       "      <th>2</th>\n",
       "      <td>60646994</td>\n",
       "      <td>RAMOS AEREO</td>\n",
       "      <td>1284</td>\n",
       "      <td>2018-04-01</td>\n",
       "      <td>2018-04-01 20:27:50</td>\n",
       "      <td>2018-04-01 20:28:00</td>\n",
       "      <td>SEM EXPURGO</td>\n",
       "    </tr>\n",
       "    <tr>\n",
       "      <th>3</th>\n",
       "      <td>60646994</td>\n",
       "      <td>RAMOS AEREO</td>\n",
       "      <td>415</td>\n",
       "      <td>2018-04-01</td>\n",
       "      <td>2018-04-01 20:27:50</td>\n",
       "      <td>2018-04-01 20:28:00</td>\n",
       "      <td>SEM EXPURGO</td>\n",
       "    </tr>\n",
       "    <tr>\n",
       "      <th>4</th>\n",
       "      <td>60657310</td>\n",
       "      <td>TRES RIOS AEREO AT/MT</td>\n",
       "      <td>101</td>\n",
       "      <td>2018-04-01</td>\n",
       "      <td>2018-04-01 00:06:00</td>\n",
       "      <td>2018-04-01 00:50:00</td>\n",
       "      <td>SEM EXPURGO</td>\n",
       "    </tr>\n",
       "  </tbody>\n",
       "</table>\n",
       "</div>"
      ],
      "text/plain": [
       "   NUM_DOCUMENTO           DES_CONJUNTO  QTD_CONS DAT_INICIO  \\\n",
       "0       60646994            RAMOS AEREO        17 2018-04-02   \n",
       "1       60646994            RAMOS AEREO         1 2018-04-02   \n",
       "2       60646994            RAMOS AEREO      1284 2018-04-01   \n",
       "3       60646994            RAMOS AEREO       415 2018-04-01   \n",
       "4       60657310  TRES RIOS AEREO AT/MT       101 2018-04-01   \n",
       "\n",
       "   INTERRUPCAO_INICIO INTERRUPCAO_TERMINO DES_TIP_EXPURGO  \n",
       "0 2018-04-02 00:20:00 2018-04-02 00:20:00     SEM EXPURGO  \n",
       "1 2018-04-02 00:20:00 2018-04-02 00:20:00     SEM EXPURGO  \n",
       "2 2018-04-01 20:27:50 2018-04-01 20:28:00     SEM EXPURGO  \n",
       "3 2018-04-01 20:27:50 2018-04-01 20:28:00     SEM EXPURGO  \n",
       "4 2018-04-01 00:06:00 2018-04-01 00:50:00     SEM EXPURGO  "
      ]
     },
     "execution_count": 11,
     "metadata": {},
     "output_type": "execute_result"
    }
   ],
   "source": [
    "dados.head()"
   ]
  },
  {
   "cell_type": "code",
   "execution_count": 12,
   "metadata": {},
   "outputs": [],
   "source": [
    "# O volume de dados ainda está muito grande, 88424 linhas, vamos usar uma segunda tabela para filtrar apenas os códigos \n",
    "#referentes a região Oeste, contudo a coluna dos códigos nessa segunda tabela recebe o nome de numserv, vamos precisar \n",
    "#alterar o nome da nossa tabela dados, para as colunas nas duas tabelas ficarem com mesmo nome\n",
    "\n",
    "dados = dados.rename({'NUM_DOCUMENTO':'numserv'}, axis=1)"
   ]
  },
  {
   "cell_type": "code",
   "execution_count": 13,
   "metadata": {},
   "outputs": [
    {
     "data": {
      "text/html": [
       "<div>\n",
       "<style scoped>\n",
       "    .dataframe tbody tr th:only-of-type {\n",
       "        vertical-align: middle;\n",
       "    }\n",
       "\n",
       "    .dataframe tbody tr th {\n",
       "        vertical-align: top;\n",
       "    }\n",
       "\n",
       "    .dataframe thead th {\n",
       "        text-align: right;\n",
       "    }\n",
       "</style>\n",
       "<table border=\"1\" class=\"dataframe\">\n",
       "  <thead>\n",
       "    <tr style=\"text-align: right;\">\n",
       "      <th></th>\n",
       "      <th>numserv</th>\n",
       "      <th>DES_CONJUNTO</th>\n",
       "      <th>QTD_CONS</th>\n",
       "      <th>DAT_INICIO</th>\n",
       "      <th>INTERRUPCAO_INICIO</th>\n",
       "      <th>INTERRUPCAO_TERMINO</th>\n",
       "      <th>DES_TIP_EXPURGO</th>\n",
       "    </tr>\n",
       "  </thead>\n",
       "  <tbody>\n",
       "    <tr>\n",
       "      <th>0</th>\n",
       "      <td>60646994</td>\n",
       "      <td>RAMOS AEREO</td>\n",
       "      <td>17</td>\n",
       "      <td>2018-04-02</td>\n",
       "      <td>2018-04-02 00:20:00</td>\n",
       "      <td>2018-04-02 00:20:00</td>\n",
       "      <td>SEM EXPURGO</td>\n",
       "    </tr>\n",
       "    <tr>\n",
       "      <th>1</th>\n",
       "      <td>60646994</td>\n",
       "      <td>RAMOS AEREO</td>\n",
       "      <td>1</td>\n",
       "      <td>2018-04-02</td>\n",
       "      <td>2018-04-02 00:20:00</td>\n",
       "      <td>2018-04-02 00:20:00</td>\n",
       "      <td>SEM EXPURGO</td>\n",
       "    </tr>\n",
       "    <tr>\n",
       "      <th>2</th>\n",
       "      <td>60646994</td>\n",
       "      <td>RAMOS AEREO</td>\n",
       "      <td>1284</td>\n",
       "      <td>2018-04-01</td>\n",
       "      <td>2018-04-01 20:27:50</td>\n",
       "      <td>2018-04-01 20:28:00</td>\n",
       "      <td>SEM EXPURGO</td>\n",
       "    </tr>\n",
       "    <tr>\n",
       "      <th>3</th>\n",
       "      <td>60646994</td>\n",
       "      <td>RAMOS AEREO</td>\n",
       "      <td>415</td>\n",
       "      <td>2018-04-01</td>\n",
       "      <td>2018-04-01 20:27:50</td>\n",
       "      <td>2018-04-01 20:28:00</td>\n",
       "      <td>SEM EXPURGO</td>\n",
       "    </tr>\n",
       "    <tr>\n",
       "      <th>4</th>\n",
       "      <td>60657310</td>\n",
       "      <td>TRES RIOS AEREO AT/MT</td>\n",
       "      <td>101</td>\n",
       "      <td>2018-04-01</td>\n",
       "      <td>2018-04-01 00:06:00</td>\n",
       "      <td>2018-04-01 00:50:00</td>\n",
       "      <td>SEM EXPURGO</td>\n",
       "    </tr>\n",
       "  </tbody>\n",
       "</table>\n",
       "</div>"
      ],
      "text/plain": [
       "    numserv           DES_CONJUNTO  QTD_CONS DAT_INICIO  INTERRUPCAO_INICIO  \\\n",
       "0  60646994            RAMOS AEREO        17 2018-04-02 2018-04-02 00:20:00   \n",
       "1  60646994            RAMOS AEREO         1 2018-04-02 2018-04-02 00:20:00   \n",
       "2  60646994            RAMOS AEREO      1284 2018-04-01 2018-04-01 20:27:50   \n",
       "3  60646994            RAMOS AEREO       415 2018-04-01 2018-04-01 20:27:50   \n",
       "4  60657310  TRES RIOS AEREO AT/MT       101 2018-04-01 2018-04-01 00:06:00   \n",
       "\n",
       "  INTERRUPCAO_TERMINO DES_TIP_EXPURGO  \n",
       "0 2018-04-02 00:20:00     SEM EXPURGO  \n",
       "1 2018-04-02 00:20:00     SEM EXPURGO  \n",
       "2 2018-04-01 20:28:00     SEM EXPURGO  \n",
       "3 2018-04-01 20:28:00     SEM EXPURGO  \n",
       "4 2018-04-01 00:50:00     SEM EXPURGO  "
      ]
     },
     "execution_count": 13,
     "metadata": {},
     "output_type": "execute_result"
    }
   ],
   "source": [
    "dados.head()"
   ]
  },
  {
   "cell_type": "code",
   "execution_count": 14,
   "metadata": {},
   "outputs": [],
   "source": [
    "codigos_da_região_oeste = pd.read_excel(\"ORDENS_DSO.xlsx\",sheet_name = 'Plan1')"
   ]
  },
  {
   "cell_type": "code",
   "execution_count": 15,
   "metadata": {},
   "outputs": [],
   "source": [
    "lista = codigos_da_região_oeste.values.tolist()\n",
    "selecao = []\n",
    "for x in range(len(lista)):\n",
    "    selecao.append(lista[x][0])"
   ]
  },
  {
   "cell_type": "code",
   "execution_count": 16,
   "metadata": {},
   "outputs": [],
   "source": [
    "dados_oeste = dados[dados['numserv'].isin(selecao)]"
   ]
  },
  {
   "cell_type": "code",
   "execution_count": 17,
   "metadata": {},
   "outputs": [
    {
     "data": {
      "text/plain": [
       "(21892, 7)"
      ]
     },
     "execution_count": 17,
     "metadata": {},
     "output_type": "execute_result"
    }
   ],
   "source": [
    "dados_oeste.shape #tinhamos 88424 linhas, com o filtro da região Oeste, caíram para 21892 linhas"
   ]
  },
  {
   "cell_type": "code",
   "execution_count": 18,
   "metadata": {},
   "outputs": [],
   "source": [
    "#Usados para contabilizar apenas as ocorrências que não poderiam ser expurgadas dos indicadores de eficiência das \n",
    "#distribuidoras de energia elétrica. Tais ocorrências são utilizadas na avaliação do nível de serviço prestado\n",
    "\n",
    "dados_oeste = dados_oeste.loc[dados_oeste['DES_TIP_EXPURGO']==(\"SEM EXPURGO\")]"
   ]
  },
  {
   "cell_type": "code",
   "execution_count": 19,
   "metadata": {},
   "outputs": [
    {
     "data": {
      "text/plain": [
       "(14632, 7)"
      ]
     },
     "execution_count": 19,
     "metadata": {},
     "output_type": "execute_result"
    }
   ],
   "source": [
    "dados_oeste.shape "
   ]
  },
  {
   "cell_type": "code",
   "execution_count": 20,
   "metadata": {},
   "outputs": [
    {
     "data": {
      "text/plain": [
       "numserv                         int64\n",
       "DES_CONJUNTO                   object\n",
       "QTD_CONS                        int64\n",
       "DAT_INICIO             datetime64[ns]\n",
       "INTERRUPCAO_INICIO     datetime64[ns]\n",
       "INTERRUPCAO_TERMINO    datetime64[ns]\n",
       "DES_TIP_EXPURGO                object\n",
       "dtype: object"
      ]
     },
     "execution_count": 20,
     "metadata": {},
     "output_type": "execute_result"
    }
   ],
   "source": [
    "dados_oeste.dtypes #para saber se as colunas de datas estavam com o formato datetime"
   ]
  },
  {
   "cell_type": "code",
   "execution_count": 21,
   "metadata": {},
   "outputs": [],
   "source": [
    "#Vamos trabalhar apenas com os dados referentes ao mês de março nesse trabalho\n",
    "\n",
    "dados_oeste_marco=dados_oeste.loc[dados_oeste.DAT_INICIO.dt.month == 3,:]"
   ]
  },
  {
   "cell_type": "code",
   "execution_count": 22,
   "metadata": {},
   "outputs": [
    {
     "data": {
      "text/plain": [
       "(4906, 7)"
      ]
     },
     "execution_count": 22,
     "metadata": {},
     "output_type": "execute_result"
    }
   ],
   "source": [
    "dados_oeste_marco.shape"
   ]
  },
  {
   "cell_type": "code",
   "execution_count": 23,
   "metadata": {},
   "outputs": [
    {
     "data": {
      "text/html": [
       "<div>\n",
       "<style scoped>\n",
       "    .dataframe tbody tr th:only-of-type {\n",
       "        vertical-align: middle;\n",
       "    }\n",
       "\n",
       "    .dataframe tbody tr th {\n",
       "        vertical-align: top;\n",
       "    }\n",
       "\n",
       "    .dataframe thead th {\n",
       "        text-align: right;\n",
       "    }\n",
       "</style>\n",
       "<table border=\"1\" class=\"dataframe\">\n",
       "  <thead>\n",
       "    <tr style=\"text-align: right;\">\n",
       "      <th></th>\n",
       "      <th>numserv</th>\n",
       "      <th>DES_CONJUNTO</th>\n",
       "      <th>QTD_CONS</th>\n",
       "      <th>DAT_INICIO</th>\n",
       "      <th>INTERRUPCAO_INICIO</th>\n",
       "      <th>INTERRUPCAO_TERMINO</th>\n",
       "      <th>DES_TIP_EXPURGO</th>\n",
       "    </tr>\n",
       "  </thead>\n",
       "  <tbody>\n",
       "    <tr>\n",
       "      <th>9</th>\n",
       "      <td>60657283</td>\n",
       "      <td>ARI FRANCO</td>\n",
       "      <td>116</td>\n",
       "      <td>2018-03-31</td>\n",
       "      <td>2018-03-31 23:48:00</td>\n",
       "      <td>2018-04-01 04:12:42</td>\n",
       "      <td>SEM EXPURGO</td>\n",
       "    </tr>\n",
       "    <tr>\n",
       "      <th>12</th>\n",
       "      <td>60657225</td>\n",
       "      <td>ESPERANCA AEREO MT/MT</td>\n",
       "      <td>76</td>\n",
       "      <td>2018-03-31</td>\n",
       "      <td>2018-03-31 23:19:00</td>\n",
       "      <td>2018-03-31 23:55:00</td>\n",
       "      <td>SEM EXPURGO</td>\n",
       "    </tr>\n",
       "    <tr>\n",
       "      <th>13</th>\n",
       "      <td>60657304</td>\n",
       "      <td>MATO ALTO</td>\n",
       "      <td>48</td>\n",
       "      <td>2018-03-31</td>\n",
       "      <td>2018-03-31 23:17:00</td>\n",
       "      <td>2018-04-01 01:30:00</td>\n",
       "      <td>SEM EXPURGO</td>\n",
       "    </tr>\n",
       "    <tr>\n",
       "      <th>19</th>\n",
       "      <td>60657444</td>\n",
       "      <td>CURICICA AEREO</td>\n",
       "      <td>1</td>\n",
       "      <td>2018-03-31</td>\n",
       "      <td>2018-03-31 23:02:54</td>\n",
       "      <td>2018-04-01 13:00:36</td>\n",
       "      <td>SEM EXPURGO</td>\n",
       "    </tr>\n",
       "    <tr>\n",
       "      <th>25</th>\n",
       "      <td>60657123</td>\n",
       "      <td>BRISA MAR</td>\n",
       "      <td>1</td>\n",
       "      <td>2018-03-31</td>\n",
       "      <td>2018-03-31 22:55:29</td>\n",
       "      <td>2018-04-01 00:50:00</td>\n",
       "      <td>SEM EXPURGO</td>\n",
       "    </tr>\n",
       "  </tbody>\n",
       "</table>\n",
       "</div>"
      ],
      "text/plain": [
       "     numserv           DES_CONJUNTO  QTD_CONS DAT_INICIO  INTERRUPCAO_INICIO  \\\n",
       "9   60657283             ARI FRANCO       116 2018-03-31 2018-03-31 23:48:00   \n",
       "12  60657225  ESPERANCA AEREO MT/MT        76 2018-03-31 2018-03-31 23:19:00   \n",
       "13  60657304              MATO ALTO        48 2018-03-31 2018-03-31 23:17:00   \n",
       "19  60657444         CURICICA AEREO         1 2018-03-31 2018-03-31 23:02:54   \n",
       "25  60657123              BRISA MAR         1 2018-03-31 2018-03-31 22:55:29   \n",
       "\n",
       "   INTERRUPCAO_TERMINO DES_TIP_EXPURGO  \n",
       "9  2018-04-01 04:12:42     SEM EXPURGO  \n",
       "12 2018-03-31 23:55:00     SEM EXPURGO  \n",
       "13 2018-04-01 01:30:00     SEM EXPURGO  \n",
       "19 2018-04-01 13:00:36     SEM EXPURGO  \n",
       "25 2018-04-01 00:50:00     SEM EXPURGO  "
      ]
     },
     "execution_count": 23,
     "metadata": {},
     "output_type": "execute_result"
    }
   ],
   "source": [
    "dados_oeste_marco.head()"
   ]
  },
  {
   "cell_type": "code",
   "execution_count": 24,
   "metadata": {},
   "outputs": [
    {
     "name": "stderr",
     "output_type": "stream",
     "text": [
      "C:\\Users\\marce\\Anaconda3\\lib\\site-packages\\pandas\\core\\frame.py:3694: SettingWithCopyWarning: \n",
      "A value is trying to be set on a copy of a slice from a DataFrame\n",
      "\n",
      "See the caveats in the documentation: http://pandas.pydata.org/pandas-docs/stable/indexing.html#indexing-view-versus-copy\n",
      "  errors=errors)\n"
     ]
    }
   ],
   "source": [
    "#as colunas numserv e DES_TIP_EXPURGO já não serão mais úteis e podem ser eliminadas\n",
    "\n",
    "dados_oeste_marco.drop(['numserv','DES_TIP_EXPURGO'], axis=1, inplace = True)"
   ]
  },
  {
   "cell_type": "code",
   "execution_count": 25,
   "metadata": {},
   "outputs": [
    {
     "data": {
      "text/html": [
       "<div>\n",
       "<style scoped>\n",
       "    .dataframe tbody tr th:only-of-type {\n",
       "        vertical-align: middle;\n",
       "    }\n",
       "\n",
       "    .dataframe tbody tr th {\n",
       "        vertical-align: top;\n",
       "    }\n",
       "\n",
       "    .dataframe thead th {\n",
       "        text-align: right;\n",
       "    }\n",
       "</style>\n",
       "<table border=\"1\" class=\"dataframe\">\n",
       "  <thead>\n",
       "    <tr style=\"text-align: right;\">\n",
       "      <th></th>\n",
       "      <th>DES_CONJUNTO</th>\n",
       "      <th>QTD_CONS</th>\n",
       "      <th>DAT_INICIO</th>\n",
       "      <th>INTERRUPCAO_INICIO</th>\n",
       "      <th>INTERRUPCAO_TERMINO</th>\n",
       "    </tr>\n",
       "  </thead>\n",
       "  <tbody>\n",
       "    <tr>\n",
       "      <th>9</th>\n",
       "      <td>ARI FRANCO</td>\n",
       "      <td>116</td>\n",
       "      <td>2018-03-31</td>\n",
       "      <td>2018-03-31 23:48:00</td>\n",
       "      <td>2018-04-01 04:12:42</td>\n",
       "    </tr>\n",
       "    <tr>\n",
       "      <th>12</th>\n",
       "      <td>ESPERANCA AEREO MT/MT</td>\n",
       "      <td>76</td>\n",
       "      <td>2018-03-31</td>\n",
       "      <td>2018-03-31 23:19:00</td>\n",
       "      <td>2018-03-31 23:55:00</td>\n",
       "    </tr>\n",
       "    <tr>\n",
       "      <th>13</th>\n",
       "      <td>MATO ALTO</td>\n",
       "      <td>48</td>\n",
       "      <td>2018-03-31</td>\n",
       "      <td>2018-03-31 23:17:00</td>\n",
       "      <td>2018-04-01 01:30:00</td>\n",
       "    </tr>\n",
       "    <tr>\n",
       "      <th>19</th>\n",
       "      <td>CURICICA AEREO</td>\n",
       "      <td>1</td>\n",
       "      <td>2018-03-31</td>\n",
       "      <td>2018-03-31 23:02:54</td>\n",
       "      <td>2018-04-01 13:00:36</td>\n",
       "    </tr>\n",
       "    <tr>\n",
       "      <th>25</th>\n",
       "      <td>BRISA MAR</td>\n",
       "      <td>1</td>\n",
       "      <td>2018-03-31</td>\n",
       "      <td>2018-03-31 22:55:29</td>\n",
       "      <td>2018-04-01 00:50:00</td>\n",
       "    </tr>\n",
       "  </tbody>\n",
       "</table>\n",
       "</div>"
      ],
      "text/plain": [
       "             DES_CONJUNTO  QTD_CONS DAT_INICIO  INTERRUPCAO_INICIO  \\\n",
       "9              ARI FRANCO       116 2018-03-31 2018-03-31 23:48:00   \n",
       "12  ESPERANCA AEREO MT/MT        76 2018-03-31 2018-03-31 23:19:00   \n",
       "13              MATO ALTO        48 2018-03-31 2018-03-31 23:17:00   \n",
       "19         CURICICA AEREO         1 2018-03-31 2018-03-31 23:02:54   \n",
       "25              BRISA MAR         1 2018-03-31 2018-03-31 22:55:29   \n",
       "\n",
       "   INTERRUPCAO_TERMINO  \n",
       "9  2018-04-01 04:12:42  \n",
       "12 2018-03-31 23:55:00  \n",
       "13 2018-04-01 01:30:00  \n",
       "19 2018-04-01 13:00:36  \n",
       "25 2018-04-01 00:50:00  "
      ]
     },
     "execution_count": 25,
     "metadata": {},
     "output_type": "execute_result"
    }
   ],
   "source": [
    "dados_oeste_marco.head()"
   ]
  },
  {
   "cell_type": "code",
   "execution_count": 33,
   "metadata": {},
   "outputs": [],
   "source": [
    "#Tabela contendo os conjuntos que possuem meta de DEC e a respectiva meta\n",
    "\n",
    "TABELA_METAS_DEC_FEC_CONJUNTO = pd.read_excel(\"TABELA_METAS_DEC_FEC_CONJUNTO.xlsx\",sheet_name = 'Metas_DEC-FEC')"
   ]
  },
  {
   "cell_type": "code",
   "execution_count": 34,
   "metadata": {},
   "outputs": [
    {
     "data": {
      "text/html": [
       "<div>\n",
       "<style scoped>\n",
       "    .dataframe tbody tr th:only-of-type {\n",
       "        vertical-align: middle;\n",
       "    }\n",
       "\n",
       "    .dataframe tbody tr th {\n",
       "        vertical-align: top;\n",
       "    }\n",
       "\n",
       "    .dataframe thead th {\n",
       "        text-align: right;\n",
       "    }\n",
       "</style>\n",
       "<table border=\"1\" class=\"dataframe\">\n",
       "  <thead>\n",
       "    <tr style=\"text-align: right;\">\n",
       "      <th></th>\n",
       "      <th>Conjunto de Consumidores</th>\n",
       "      <th>Ano</th>\n",
       "      <th>DEC Meta\n",
       "Mensal</th>\n",
       "      <th>DEC Meta\n",
       "Trimestral</th>\n",
       "      <th>DEC Meta\n",
       "Anual</th>\n",
       "      <th>FEC Meta\n",
       "Mensal</th>\n",
       "      <th>FEC Meta\n",
       "Trimestral</th>\n",
       "      <th>FEC Meta\n",
       "Anual</th>\n",
       "    </tr>\n",
       "  </thead>\n",
       "  <tbody>\n",
       "    <tr>\n",
       "      <th>0</th>\n",
       "      <td>AGUA GRANDE AEREO</td>\n",
       "      <td>2011</td>\n",
       "      <td>2.5</td>\n",
       "      <td>4.8</td>\n",
       "      <td>8</td>\n",
       "      <td>2.0</td>\n",
       "      <td>3.6</td>\n",
       "      <td>6</td>\n",
       "    </tr>\n",
       "    <tr>\n",
       "      <th>1</th>\n",
       "      <td>ALDEIA CAMPISTA</td>\n",
       "      <td>2011</td>\n",
       "      <td>2.5</td>\n",
       "      <td>2.4</td>\n",
       "      <td>4</td>\n",
       "      <td>2.0</td>\n",
       "      <td>1.2</td>\n",
       "      <td>2</td>\n",
       "    </tr>\n",
       "    <tr>\n",
       "      <th>2</th>\n",
       "      <td>ALVORADA</td>\n",
       "      <td>2011</td>\n",
       "      <td>2.5</td>\n",
       "      <td>2.4</td>\n",
       "      <td>4</td>\n",
       "      <td>2.0</td>\n",
       "      <td>2.4</td>\n",
       "      <td>4</td>\n",
       "    </tr>\n",
       "    <tr>\n",
       "      <th>3</th>\n",
       "      <td>AREIA BRANCA AEREO</td>\n",
       "      <td>2011</td>\n",
       "      <td>2.7</td>\n",
       "      <td>5.4</td>\n",
       "      <td>9</td>\n",
       "      <td>2.4</td>\n",
       "      <td>4.8</td>\n",
       "      <td>8</td>\n",
       "    </tr>\n",
       "    <tr>\n",
       "      <th>4</th>\n",
       "      <td>ARI FRANCO</td>\n",
       "      <td>2011</td>\n",
       "      <td>3.0</td>\n",
       "      <td>6.0</td>\n",
       "      <td>10</td>\n",
       "      <td>2.7</td>\n",
       "      <td>5.4</td>\n",
       "      <td>9</td>\n",
       "    </tr>\n",
       "  </tbody>\n",
       "</table>\n",
       "</div>"
      ],
      "text/plain": [
       "  Conjunto de Consumidores   Ano  DEC Meta\\nMensal  DEC Meta\\nTrimestral  \\\n",
       "0        AGUA GRANDE AEREO  2011               2.5                   4.8   \n",
       "1          ALDEIA CAMPISTA  2011               2.5                   2.4   \n",
       "2                 ALVORADA  2011               2.5                   2.4   \n",
       "3       AREIA BRANCA AEREO  2011               2.7                   5.4   \n",
       "4               ARI FRANCO  2011               3.0                   6.0   \n",
       "\n",
       "   DEC Meta\\nAnual  FEC Meta\\nMensal  FEC Meta\\nTrimestral  FEC Meta\\nAnual  \n",
       "0                8               2.0                   3.6                6  \n",
       "1                4               2.0                   1.2                2  \n",
       "2                4               2.0                   2.4                4  \n",
       "3                9               2.4                   4.8                8  \n",
       "4               10               2.7                   5.4                9  "
      ]
     },
     "execution_count": 34,
     "metadata": {},
     "output_type": "execute_result"
    }
   ],
   "source": [
    "TABELA_METAS_DEC_FEC_CONJUNTO.head()"
   ]
  },
  {
   "cell_type": "code",
   "execution_count": 39,
   "metadata": {
    "scrolled": true
   },
   "outputs": [],
   "source": [
    "#vamos manter apenas metas de DEC referentes a 2018\n",
    "\n",
    "TABELA_METAS_DEC_FEC_CONJUNTO = TABELA_METAS_DEC_FEC_CONJUNTO.loc[TABELA_METAS_DEC_FEC_CONJUNTO[\"Ano\"]==2018,:]"
   ]
  },
  {
   "cell_type": "code",
   "execution_count": 40,
   "metadata": {},
   "outputs": [
    {
     "data": {
      "text/html": [
       "<div>\n",
       "<style scoped>\n",
       "    .dataframe tbody tr th:only-of-type {\n",
       "        vertical-align: middle;\n",
       "    }\n",
       "\n",
       "    .dataframe tbody tr th {\n",
       "        vertical-align: top;\n",
       "    }\n",
       "\n",
       "    .dataframe thead th {\n",
       "        text-align: right;\n",
       "    }\n",
       "</style>\n",
       "<table border=\"1\" class=\"dataframe\">\n",
       "  <thead>\n",
       "    <tr style=\"text-align: right;\">\n",
       "      <th></th>\n",
       "      <th>Conjunto de Consumidores</th>\n",
       "      <th>Ano</th>\n",
       "      <th>DEC Meta\n",
       "Mensal</th>\n",
       "      <th>DEC Meta\n",
       "Trimestral</th>\n",
       "      <th>DEC Meta\n",
       "Anual</th>\n",
       "      <th>FEC Meta\n",
       "Mensal</th>\n",
       "      <th>FEC Meta\n",
       "Trimestral</th>\n",
       "      <th>FEC Meta\n",
       "Anual</th>\n",
       "    </tr>\n",
       "  </thead>\n",
       "  <tbody>\n",
       "    <tr>\n",
       "      <th>734</th>\n",
       "      <td>AGUA GRANDE AEREO</td>\n",
       "      <td>2018</td>\n",
       "      <td>2.5</td>\n",
       "      <td>4.8</td>\n",
       "      <td>8</td>\n",
       "      <td>2.0</td>\n",
       "      <td>3.0</td>\n",
       "      <td>5</td>\n",
       "    </tr>\n",
       "    <tr>\n",
       "      <th>735</th>\n",
       "      <td>ALDEIA CAMPISTA</td>\n",
       "      <td>2018</td>\n",
       "      <td>2.5</td>\n",
       "      <td>2.4</td>\n",
       "      <td>4</td>\n",
       "      <td>2.0</td>\n",
       "      <td>1.2</td>\n",
       "      <td>2</td>\n",
       "    </tr>\n",
       "    <tr>\n",
       "      <th>736</th>\n",
       "      <td>ALVORADA</td>\n",
       "      <td>2018</td>\n",
       "      <td>2.5</td>\n",
       "      <td>2.4</td>\n",
       "      <td>4</td>\n",
       "      <td>2.0</td>\n",
       "      <td>2.4</td>\n",
       "      <td>4</td>\n",
       "    </tr>\n",
       "    <tr>\n",
       "      <th>737</th>\n",
       "      <td>AREIA BRANCA AEREO</td>\n",
       "      <td>2018</td>\n",
       "      <td>2.7</td>\n",
       "      <td>5.4</td>\n",
       "      <td>9</td>\n",
       "      <td>2.0</td>\n",
       "      <td>3.0</td>\n",
       "      <td>5</td>\n",
       "    </tr>\n",
       "    <tr>\n",
       "      <th>738</th>\n",
       "      <td>ARI FRANCO</td>\n",
       "      <td>2018</td>\n",
       "      <td>2.7</td>\n",
       "      <td>5.4</td>\n",
       "      <td>9</td>\n",
       "      <td>2.1</td>\n",
       "      <td>4.2</td>\n",
       "      <td>7</td>\n",
       "    </tr>\n",
       "  </tbody>\n",
       "</table>\n",
       "</div>"
      ],
      "text/plain": [
       "    Conjunto de Consumidores   Ano  DEC Meta\\nMensal  DEC Meta\\nTrimestral  \\\n",
       "734        AGUA GRANDE AEREO  2018               2.5                   4.8   \n",
       "735          ALDEIA CAMPISTA  2018               2.5                   2.4   \n",
       "736                 ALVORADA  2018               2.5                   2.4   \n",
       "737       AREIA BRANCA AEREO  2018               2.7                   5.4   \n",
       "738               ARI FRANCO  2018               2.7                   5.4   \n",
       "\n",
       "     DEC Meta\\nAnual  FEC Meta\\nMensal  FEC Meta\\nTrimestral  FEC Meta\\nAnual  \n",
       "734                8               2.0                   3.0                5  \n",
       "735                4               2.0                   1.2                2  \n",
       "736                4               2.0                   2.4                4  \n",
       "737                9               2.0                   3.0                5  \n",
       "738                9               2.1                   4.2                7  "
      ]
     },
     "execution_count": 40,
     "metadata": {},
     "output_type": "execute_result"
    }
   ],
   "source": [
    "TABELA_METAS_DEC_FEC_CONJUNTO.head()"
   ]
  },
  {
   "cell_type": "code",
   "execution_count": 42,
   "metadata": {},
   "outputs": [],
   "source": [
    "#alterar o nome da coluna Conjunto de Consumidores da TABELA_METAS_DEC_FEC_CONJUNTO para que fique com o nome igual a respectiva coluna na tabela dados_oeste_marco \n",
    "TABELA_METAS_DEC_FEC_CONJUNTO = TABELA_METAS_DEC_FEC_CONJUNTO.rename({'Conjunto de Consumidores':'DES_CONJUNTO'}, axis=1)\n"
   ]
  },
  {
   "cell_type": "code",
   "execution_count": 69,
   "metadata": {},
   "outputs": [
    {
     "data": {
      "text/html": [
       "<div>\n",
       "<style scoped>\n",
       "    .dataframe tbody tr th:only-of-type {\n",
       "        vertical-align: middle;\n",
       "    }\n",
       "\n",
       "    .dataframe tbody tr th {\n",
       "        vertical-align: top;\n",
       "    }\n",
       "\n",
       "    .dataframe thead th {\n",
       "        text-align: right;\n",
       "    }\n",
       "</style>\n",
       "<table border=\"1\" class=\"dataframe\">\n",
       "  <thead>\n",
       "    <tr style=\"text-align: right;\">\n",
       "      <th></th>\n",
       "      <th>DES_CONJUNTO</th>\n",
       "      <th>Ano</th>\n",
       "      <th>DEC Meta\n",
       "Mensal</th>\n",
       "      <th>DEC Meta\n",
       "Trimestral</th>\n",
       "      <th>DEC Meta\n",
       "Anual</th>\n",
       "      <th>FEC Meta\n",
       "Mensal</th>\n",
       "      <th>FEC Meta\n",
       "Trimestral</th>\n",
       "      <th>FEC Meta\n",
       "Anual</th>\n",
       "    </tr>\n",
       "  </thead>\n",
       "  <tbody>\n",
       "    <tr>\n",
       "      <th>734</th>\n",
       "      <td>AGUA GRANDE AEREO</td>\n",
       "      <td>2018</td>\n",
       "      <td>2.5</td>\n",
       "      <td>4.8</td>\n",
       "      <td>8</td>\n",
       "      <td>2.0</td>\n",
       "      <td>3.0</td>\n",
       "      <td>5</td>\n",
       "    </tr>\n",
       "    <tr>\n",
       "      <th>735</th>\n",
       "      <td>ALDEIA CAMPISTA</td>\n",
       "      <td>2018</td>\n",
       "      <td>2.5</td>\n",
       "      <td>2.4</td>\n",
       "      <td>4</td>\n",
       "      <td>2.0</td>\n",
       "      <td>1.2</td>\n",
       "      <td>2</td>\n",
       "    </tr>\n",
       "    <tr>\n",
       "      <th>736</th>\n",
       "      <td>ALVORADA</td>\n",
       "      <td>2018</td>\n",
       "      <td>2.5</td>\n",
       "      <td>2.4</td>\n",
       "      <td>4</td>\n",
       "      <td>2.0</td>\n",
       "      <td>2.4</td>\n",
       "      <td>4</td>\n",
       "    </tr>\n",
       "    <tr>\n",
       "      <th>737</th>\n",
       "      <td>AREIA BRANCA AEREO</td>\n",
       "      <td>2018</td>\n",
       "      <td>2.7</td>\n",
       "      <td>5.4</td>\n",
       "      <td>9</td>\n",
       "      <td>2.0</td>\n",
       "      <td>3.0</td>\n",
       "      <td>5</td>\n",
       "    </tr>\n",
       "    <tr>\n",
       "      <th>738</th>\n",
       "      <td>ARI FRANCO</td>\n",
       "      <td>2018</td>\n",
       "      <td>2.7</td>\n",
       "      <td>5.4</td>\n",
       "      <td>9</td>\n",
       "      <td>2.1</td>\n",
       "      <td>4.2</td>\n",
       "      <td>7</td>\n",
       "    </tr>\n",
       "  </tbody>\n",
       "</table>\n",
       "</div>"
      ],
      "text/plain": [
       "           DES_CONJUNTO   Ano  DEC Meta\\nMensal  DEC Meta\\nTrimestral  \\\n",
       "734   AGUA GRANDE AEREO  2018               2.5                   4.8   \n",
       "735     ALDEIA CAMPISTA  2018               2.5                   2.4   \n",
       "736            ALVORADA  2018               2.5                   2.4   \n",
       "737  AREIA BRANCA AEREO  2018               2.7                   5.4   \n",
       "738          ARI FRANCO  2018               2.7                   5.4   \n",
       "\n",
       "     DEC Meta\\nAnual  FEC Meta\\nMensal  FEC Meta\\nTrimestral  FEC Meta\\nAnual  \n",
       "734                8               2.0                   3.0                5  \n",
       "735                4               2.0                   1.2                2  \n",
       "736                4               2.0                   2.4                4  \n",
       "737                9               2.0                   3.0                5  \n",
       "738                9               2.1                   4.2                7  "
      ]
     },
     "execution_count": 69,
     "metadata": {},
     "output_type": "execute_result"
    }
   ],
   "source": [
    "TABELA_METAS_DEC_FEC_CONJUNTO.head()"
   ]
  },
  {
   "cell_type": "code",
   "execution_count": 73,
   "metadata": {},
   "outputs": [],
   "source": [
    "lista = TABELA_METAS_DEC_FEC_CONJUNTO.values.tolist()\n",
    "selecao = []\n",
    "for x in range(len(lista)):\n",
    "    selecao.append(lista[x][0]) #esse [0] já está dizendo para usar a primeira coluna"
   ]
  },
  {
   "cell_type": "code",
   "execution_count": 106,
   "metadata": {},
   "outputs": [],
   "source": [
    "#dados da região oeste, do mês de março e que possuem meta de DEC\n",
    "\n",
    "dados_oeste_marco_DEC = dados_oeste_marco[dados_oeste_marco['DES_CONJUNTO'].isin(selecao)]"
   ]
  },
  {
   "cell_type": "code",
   "execution_count": 107,
   "metadata": {},
   "outputs": [
    {
     "data": {
      "text/plain": [
       "(4186, 5)"
      ]
     },
     "execution_count": 107,
     "metadata": {},
     "output_type": "execute_result"
    }
   ],
   "source": [
    "dados_oeste_marco_DEC.shape"
   ]
  },
  {
   "cell_type": "code",
   "execution_count": 108,
   "metadata": {},
   "outputs": [
    {
     "data": {
      "text/plain": [
       "(4906, 5)"
      ]
     },
     "execution_count": 108,
     "metadata": {},
     "output_type": "execute_result"
    }
   ],
   "source": [
    "dados_oeste_marco.shape"
   ]
  },
  {
   "cell_type": "code",
   "execution_count": 109,
   "metadata": {},
   "outputs": [
    {
     "data": {
      "text/plain": [
       "array(['ARI FRANCO', 'ESPERANCA AEREO MT/MT', 'MATO ALTO',\n",
       "       'CURICICA AEREO', 'BRISA MAR', 'PORTA DAGUA AEREO',\n",
       "       'VILA VALQUEIRE', 'SANTISSIMO AEREO', 'ESPERANCA AEREO AT/MT ',\n",
       "       'SEROPEDICA AEREO', 'CACHAMORRA', 'ITAGUAI  ', 'JABOATAO AEREO',\n",
       "       'CAMARA', 'TAQUARA AEREO', 'BARRA AEREO', 'COSMOS', 'ALVORADA',\n",
       "       'PADRE MIGUEL', 'ROSALI', 'CASCADURA AEREO', 'ZONA INDUSTRIAL ',\n",
       "       'FREI CANECA AEREO', 'BOCA DO MATO AEREO', 'GUADALUPE AEREO',\n",
       "       'JARDIM BOTANICO AEREO', 'MERITI', 'VIGARIO'], dtype=object)"
      ]
     },
     "execution_count": 109,
     "metadata": {},
     "output_type": "execute_result"
    }
   ],
   "source": [
    "#o volume de dados ainda está muito grande, vamos selecionar apenas um dos conjuntos que integram a região Oeste\n",
    "\n",
    "dados_oeste_marco['DES_CONJUNTO'].unique()"
   ]
  },
  {
   "cell_type": "code",
   "execution_count": 110,
   "metadata": {},
   "outputs": [
    {
     "data": {
      "text/plain": [
       "array(['ARI FRANCO', 'ESPERANCA AEREO MT/MT', 'MATO ALTO',\n",
       "       'CURICICA AEREO', 'BRISA MAR', 'PORTA DAGUA AEREO',\n",
       "       'VILA VALQUEIRE', 'SANTISSIMO AEREO', 'SEROPEDICA AEREO',\n",
       "       'CACHAMORRA', 'JABOATAO AEREO', 'CAMARA', 'TAQUARA AEREO',\n",
       "       'BARRA AEREO', 'COSMOS', 'ALVORADA', 'PADRE MIGUEL', 'ROSALI',\n",
       "       'CASCADURA AEREO', 'FREI CANECA AEREO', 'BOCA DO MATO AEREO',\n",
       "       'GUADALUPE AEREO', 'JARDIM BOTANICO AEREO', 'MERITI', 'VIGARIO'],\n",
       "      dtype=object)"
      ]
     },
     "execution_count": 110,
     "metadata": {},
     "output_type": "execute_result"
    }
   ],
   "source": [
    "dados_oeste_marco_DEC['DES_CONJUNTO'].unique()"
   ]
  },
  {
   "cell_type": "code",
   "execution_count": 111,
   "metadata": {},
   "outputs": [],
   "source": [
    "#Quantas vezes cada conjunto aparece\n",
    "\n",
    "num_de_chamados_por_conjunto = dados_oeste_marco_DEC['DES_CONJUNTO'].value_counts()"
   ]
  },
  {
   "cell_type": "code",
   "execution_count": 100,
   "metadata": {},
   "outputs": [
    {
     "name": "stdout",
     "output_type": "stream",
     "text": [
      "PORTA DAGUA AEREO        406\n",
      "COSMOS                   322\n",
      "CURICICA AEREO           320\n",
      "CAMARA                   316\n",
      "ARI FRANCO               307\n",
      "SEROPEDICA AEREO         275\n",
      "JABOATAO AEREO           273\n",
      "MATO ALTO                271\n",
      "CACHAMORRA               262\n",
      "PADRE MIGUEL             254\n",
      "BRISA MAR                244\n",
      "TAQUARA AEREO            227\n",
      "ESPERANCA AEREO MT/MT    224\n",
      "SANTISSIMO AEREO         222\n",
      "VILA VALQUEIRE           107\n",
      "BARRA AEREO               70\n",
      "CASCADURA AEREO           38\n",
      "GUADALUPE AEREO           21\n",
      "FREI CANECA AEREO          8\n",
      "JARDIM BOTANICO AEREO      6\n",
      "BOCA DO MATO AEREO         4\n",
      "ALVORADA                   4\n",
      "MERITI                     2\n",
      "ROSALI                     2\n",
      "VIGARIO                    1\n",
      "Name: DES_CONJUNTO, dtype: int64\n"
     ]
    }
   ],
   "source": [
    "print()"
   ]
  },
  {
   "cell_type": "code",
   "execution_count": 103,
   "metadata": {},
   "outputs": [],
   "source": [
    "#vamos exportar apenas para montar o gráfico\n",
    "\n",
    "writer = pd.ExcelWriter(r'C:\\Users\\marce\\Desktop\\Artigo\\POMS\\num_de_chamados_por_conjunto.xlsx')\n",
    "num_de_chamados_por_conjunto.to_excel(writer,'num_de_chamados_por_conjunto')\n",
    "writer.save()"
   ]
  },
  {
   "cell_type": "code",
   "execution_count": 112,
   "metadata": {},
   "outputs": [],
   "source": [
    "# Vamos selecionar apenas os dados de um dos conjuntos. O conjunto Ari Franco foi escolhido por dispor de metas de DEC \n",
    "#e um alto volume de ocorrências\n",
    "\n",
    "dados_Ari_Franco_marco = dados_oeste_marco_DEC.loc[dados_oeste_marco_DEC['DES_CONJUNTO']==(\"ARI FRANCO\")]"
   ]
  },
  {
   "cell_type": "code",
   "execution_count": 113,
   "metadata": {},
   "outputs": [
    {
     "data": {
      "text/plain": [
       "(307, 5)"
      ]
     },
     "execution_count": 113,
     "metadata": {},
     "output_type": "execute_result"
    }
   ],
   "source": [
    "dados_Ari_Franco_marco.shape"
   ]
  },
  {
   "cell_type": "code",
   "execution_count": 114,
   "metadata": {},
   "outputs": [
    {
     "data": {
      "text/html": [
       "<div>\n",
       "<style scoped>\n",
       "    .dataframe tbody tr th:only-of-type {\n",
       "        vertical-align: middle;\n",
       "    }\n",
       "\n",
       "    .dataframe tbody tr th {\n",
       "        vertical-align: top;\n",
       "    }\n",
       "\n",
       "    .dataframe thead th {\n",
       "        text-align: right;\n",
       "    }\n",
       "</style>\n",
       "<table border=\"1\" class=\"dataframe\">\n",
       "  <thead>\n",
       "    <tr style=\"text-align: right;\">\n",
       "      <th></th>\n",
       "      <th>DES_CONJUNTO</th>\n",
       "      <th>QTD_CONS</th>\n",
       "      <th>DAT_INICIO</th>\n",
       "      <th>INTERRUPCAO_INICIO</th>\n",
       "      <th>INTERRUPCAO_TERMINO</th>\n",
       "    </tr>\n",
       "  </thead>\n",
       "  <tbody>\n",
       "    <tr>\n",
       "      <th>9</th>\n",
       "      <td>ARI FRANCO</td>\n",
       "      <td>116</td>\n",
       "      <td>2018-03-31</td>\n",
       "      <td>2018-03-31 23:48:00</td>\n",
       "      <td>2018-04-01 04:12:42</td>\n",
       "    </tr>\n",
       "    <tr>\n",
       "      <th>150</th>\n",
       "      <td>ARI FRANCO</td>\n",
       "      <td>54</td>\n",
       "      <td>2018-03-31</td>\n",
       "      <td>2018-03-31 16:57:00</td>\n",
       "      <td>2018-03-31 22:14:08</td>\n",
       "    </tr>\n",
       "    <tr>\n",
       "      <th>227</th>\n",
       "      <td>ARI FRANCO</td>\n",
       "      <td>1</td>\n",
       "      <td>2018-03-31</td>\n",
       "      <td>2018-03-31 13:31:32</td>\n",
       "      <td>2018-04-01 12:25:00</td>\n",
       "    </tr>\n",
       "    <tr>\n",
       "      <th>233</th>\n",
       "      <td>ARI FRANCO</td>\n",
       "      <td>1</td>\n",
       "      <td>2018-03-31</td>\n",
       "      <td>2018-03-31 13:21:00</td>\n",
       "      <td>2018-03-31 13:50:00</td>\n",
       "    </tr>\n",
       "    <tr>\n",
       "      <th>247</th>\n",
       "      <td>ARI FRANCO</td>\n",
       "      <td>1</td>\n",
       "      <td>2018-03-31</td>\n",
       "      <td>2018-03-31 12:38:26</td>\n",
       "      <td>2018-03-31 18:35:00</td>\n",
       "    </tr>\n",
       "  </tbody>\n",
       "</table>\n",
       "</div>"
      ],
      "text/plain": [
       "    DES_CONJUNTO  QTD_CONS DAT_INICIO  INTERRUPCAO_INICIO INTERRUPCAO_TERMINO\n",
       "9     ARI FRANCO       116 2018-03-31 2018-03-31 23:48:00 2018-04-01 04:12:42\n",
       "150   ARI FRANCO        54 2018-03-31 2018-03-31 16:57:00 2018-03-31 22:14:08\n",
       "227   ARI FRANCO         1 2018-03-31 2018-03-31 13:31:32 2018-04-01 12:25:00\n",
       "233   ARI FRANCO         1 2018-03-31 2018-03-31 13:21:00 2018-03-31 13:50:00\n",
       "247   ARI FRANCO         1 2018-03-31 2018-03-31 12:38:26 2018-03-31 18:35:00"
      ]
     },
     "execution_count": 114,
     "metadata": {},
     "output_type": "execute_result"
    }
   ],
   "source": [
    "dados_Ari_Franco_marco.head()"
   ]
  },
  {
   "cell_type": "code",
   "execution_count": 123,
   "metadata": {},
   "outputs": [],
   "source": [
    "#Aqui se encerra a etapa de refinamento de dados\n",
    "\n",
    "writer = pd.ExcelWriter(r'C:\\Users\\marce\\Desktop\\Artigo\\POMS\\MPPO_dados_refinados.xlsx')\n",
    "dados_Ari_Franco_marco.to_excel(writer,'dados refinados')\n",
    "writer.save()"
   ]
  },
  {
   "cell_type": "markdown",
   "metadata": {},
   "source": [
    "<h1 align=\"center\">Apendice B: Cálculo dos parâmetros para teoria de filas </h1> "
   ]
  },
  {
   "cell_type": "code",
   "execution_count": 124,
   "metadata": {},
   "outputs": [],
   "source": [
    "import xlrd \n",
    "import pandas as pd\n",
    "from pandas import ExcelWriter\n",
    "from pandas import ExcelFile\n",
    "import numpy as np"
   ]
  },
  {
   "cell_type": "code",
   "execution_count": 125,
   "metadata": {},
   "outputs": [],
   "source": [
    "#vamos começar lendo o arquivo gerado na etapa anterior, já coloquei no jupyter para facilitar a leitura\n",
    "\n",
    "dados = pd.read_excel(\"MPPO_dados_refinados.xlsx\", sheet_name = 'dados refinados')"
   ]
  },
  {
   "cell_type": "code",
   "execution_count": 126,
   "metadata": {},
   "outputs": [],
   "source": [
    "#vamos converter o arquivo para csv para que a leitura fique ainda mais rápida. \n",
    "\n",
    "dados.to_csv('MPPO_dados_refinados.csv')"
   ]
  },
  {
   "cell_type": "code",
   "execution_count": 127,
   "metadata": {},
   "outputs": [
    {
     "data": {
      "text/plain": [
       "(307, 5)"
      ]
     },
     "execution_count": 127,
     "metadata": {},
     "output_type": "execute_result"
    }
   ],
   "source": [
    "dados.shape"
   ]
  },
  {
   "cell_type": "code",
   "execution_count": 128,
   "metadata": {},
   "outputs": [
    {
     "data": {
      "text/html": [
       "<div>\n",
       "<style scoped>\n",
       "    .dataframe tbody tr th:only-of-type {\n",
       "        vertical-align: middle;\n",
       "    }\n",
       "\n",
       "    .dataframe tbody tr th {\n",
       "        vertical-align: top;\n",
       "    }\n",
       "\n",
       "    .dataframe thead th {\n",
       "        text-align: right;\n",
       "    }\n",
       "</style>\n",
       "<table border=\"1\" class=\"dataframe\">\n",
       "  <thead>\n",
       "    <tr style=\"text-align: right;\">\n",
       "      <th></th>\n",
       "      <th>DES_CONJUNTO</th>\n",
       "      <th>QTD_CONS</th>\n",
       "      <th>DAT_INICIO</th>\n",
       "      <th>INTERRUPCAO_INICIO</th>\n",
       "      <th>INTERRUPCAO_TERMINO</th>\n",
       "    </tr>\n",
       "  </thead>\n",
       "  <tbody>\n",
       "    <tr>\n",
       "      <th>9</th>\n",
       "      <td>ARI FRANCO</td>\n",
       "      <td>116</td>\n",
       "      <td>2018-03-31</td>\n",
       "      <td>2018-03-31 23:48:00</td>\n",
       "      <td>2018-04-01 04:12:42</td>\n",
       "    </tr>\n",
       "    <tr>\n",
       "      <th>150</th>\n",
       "      <td>ARI FRANCO</td>\n",
       "      <td>54</td>\n",
       "      <td>2018-03-31</td>\n",
       "      <td>2018-03-31 16:57:00</td>\n",
       "      <td>2018-03-31 22:14:08</td>\n",
       "    </tr>\n",
       "    <tr>\n",
       "      <th>227</th>\n",
       "      <td>ARI FRANCO</td>\n",
       "      <td>1</td>\n",
       "      <td>2018-03-31</td>\n",
       "      <td>2018-03-31 13:31:32</td>\n",
       "      <td>2018-04-01 12:25:00</td>\n",
       "    </tr>\n",
       "    <tr>\n",
       "      <th>233</th>\n",
       "      <td>ARI FRANCO</td>\n",
       "      <td>1</td>\n",
       "      <td>2018-03-31</td>\n",
       "      <td>2018-03-31 13:21:00</td>\n",
       "      <td>2018-03-31 13:50:00</td>\n",
       "    </tr>\n",
       "    <tr>\n",
       "      <th>247</th>\n",
       "      <td>ARI FRANCO</td>\n",
       "      <td>1</td>\n",
       "      <td>2018-03-31</td>\n",
       "      <td>2018-03-31 12:38:26</td>\n",
       "      <td>2018-03-31 18:35:00</td>\n",
       "    </tr>\n",
       "  </tbody>\n",
       "</table>\n",
       "</div>"
      ],
      "text/plain": [
       "    DES_CONJUNTO  QTD_CONS DAT_INICIO  INTERRUPCAO_INICIO INTERRUPCAO_TERMINO\n",
       "9     ARI FRANCO       116 2018-03-31 2018-03-31 23:48:00 2018-04-01 04:12:42\n",
       "150   ARI FRANCO        54 2018-03-31 2018-03-31 16:57:00 2018-03-31 22:14:08\n",
       "227   ARI FRANCO         1 2018-03-31 2018-03-31 13:31:32 2018-04-01 12:25:00\n",
       "233   ARI FRANCO         1 2018-03-31 2018-03-31 13:21:00 2018-03-31 13:50:00\n",
       "247   ARI FRANCO         1 2018-03-31 2018-03-31 12:38:26 2018-03-31 18:35:00"
      ]
     },
     "execution_count": 128,
     "metadata": {},
     "output_type": "execute_result"
    }
   ],
   "source": [
    "dados.head()"
   ]
  },
  {
   "cell_type": "code",
   "execution_count": 129,
   "metadata": {},
   "outputs": [],
   "source": [
    "#vamos precisar de uma nova coluna com a duração do serviço de reparo de emergência\n",
    "\n",
    "dados[\"DURACAO_SERVICO\"] = dados['INTERRUPCAO_TERMINO'] - dados['INTERRUPCAO_INICIO']"
   ]
  },
  {
   "cell_type": "code",
   "execution_count": 130,
   "metadata": {},
   "outputs": [
    {
     "data": {
      "text/html": [
       "<div>\n",
       "<style scoped>\n",
       "    .dataframe tbody tr th:only-of-type {\n",
       "        vertical-align: middle;\n",
       "    }\n",
       "\n",
       "    .dataframe tbody tr th {\n",
       "        vertical-align: top;\n",
       "    }\n",
       "\n",
       "    .dataframe thead th {\n",
       "        text-align: right;\n",
       "    }\n",
       "</style>\n",
       "<table border=\"1\" class=\"dataframe\">\n",
       "  <thead>\n",
       "    <tr style=\"text-align: right;\">\n",
       "      <th></th>\n",
       "      <th>DES_CONJUNTO</th>\n",
       "      <th>QTD_CONS</th>\n",
       "      <th>DAT_INICIO</th>\n",
       "      <th>INTERRUPCAO_INICIO</th>\n",
       "      <th>INTERRUPCAO_TERMINO</th>\n",
       "      <th>DURACAO_SERVICO</th>\n",
       "    </tr>\n",
       "  </thead>\n",
       "  <tbody>\n",
       "    <tr>\n",
       "      <th>9</th>\n",
       "      <td>ARI FRANCO</td>\n",
       "      <td>116</td>\n",
       "      <td>2018-03-31</td>\n",
       "      <td>2018-03-31 23:48:00</td>\n",
       "      <td>2018-04-01 04:12:42</td>\n",
       "      <td>04:24:42</td>\n",
       "    </tr>\n",
       "    <tr>\n",
       "      <th>150</th>\n",
       "      <td>ARI FRANCO</td>\n",
       "      <td>54</td>\n",
       "      <td>2018-03-31</td>\n",
       "      <td>2018-03-31 16:57:00</td>\n",
       "      <td>2018-03-31 22:14:08</td>\n",
       "      <td>05:17:08</td>\n",
       "    </tr>\n",
       "    <tr>\n",
       "      <th>227</th>\n",
       "      <td>ARI FRANCO</td>\n",
       "      <td>1</td>\n",
       "      <td>2018-03-31</td>\n",
       "      <td>2018-03-31 13:31:32</td>\n",
       "      <td>2018-04-01 12:25:00</td>\n",
       "      <td>22:53:28</td>\n",
       "    </tr>\n",
       "    <tr>\n",
       "      <th>233</th>\n",
       "      <td>ARI FRANCO</td>\n",
       "      <td>1</td>\n",
       "      <td>2018-03-31</td>\n",
       "      <td>2018-03-31 13:21:00</td>\n",
       "      <td>2018-03-31 13:50:00</td>\n",
       "      <td>00:29:00</td>\n",
       "    </tr>\n",
       "    <tr>\n",
       "      <th>247</th>\n",
       "      <td>ARI FRANCO</td>\n",
       "      <td>1</td>\n",
       "      <td>2018-03-31</td>\n",
       "      <td>2018-03-31 12:38:26</td>\n",
       "      <td>2018-03-31 18:35:00</td>\n",
       "      <td>05:56:34</td>\n",
       "    </tr>\n",
       "  </tbody>\n",
       "</table>\n",
       "</div>"
      ],
      "text/plain": [
       "    DES_CONJUNTO  QTD_CONS DAT_INICIO  INTERRUPCAO_INICIO INTERRUPCAO_TERMINO  \\\n",
       "9     ARI FRANCO       116 2018-03-31 2018-03-31 23:48:00 2018-04-01 04:12:42   \n",
       "150   ARI FRANCO        54 2018-03-31 2018-03-31 16:57:00 2018-03-31 22:14:08   \n",
       "227   ARI FRANCO         1 2018-03-31 2018-03-31 13:31:32 2018-04-01 12:25:00   \n",
       "233   ARI FRANCO         1 2018-03-31 2018-03-31 13:21:00 2018-03-31 13:50:00   \n",
       "247   ARI FRANCO         1 2018-03-31 2018-03-31 12:38:26 2018-03-31 18:35:00   \n",
       "\n",
       "    DURACAO_SERVICO  \n",
       "9          04:24:42  \n",
       "150        05:17:08  \n",
       "227        22:53:28  \n",
       "233        00:29:00  \n",
       "247        05:56:34  "
      ]
     },
     "execution_count": 130,
     "metadata": {},
     "output_type": "execute_result"
    }
   ],
   "source": [
    "dados.head()"
   ]
  },
  {
   "cell_type": "code",
   "execution_count": 131,
   "metadata": {},
   "outputs": [
    {
     "data": {
      "text/plain": [
       "DES_CONJUNTO                    object\n",
       "QTD_CONS                         int64\n",
       "DAT_INICIO              datetime64[ns]\n",
       "INTERRUPCAO_INICIO      datetime64[ns]\n",
       "INTERRUPCAO_TERMINO     datetime64[ns]\n",
       "DURACAO_SERVICO        timedelta64[ns]\n",
       "dtype: object"
      ]
     },
     "execution_count": 131,
     "metadata": {},
     "output_type": "execute_result"
    }
   ],
   "source": [
    "dados.dtypes"
   ]
  },
  {
   "cell_type": "code",
   "execution_count": 132,
   "metadata": {},
   "outputs": [],
   "source": [
    "import datetime"
   ]
  },
  {
   "cell_type": "code",
   "execution_count": 133,
   "metadata": {},
   "outputs": [],
   "source": [
    "#vamos analisar um pouco mais o comportamento dos dados de duração de serviço, porém no formato timedelta não conseguiremos\n",
    "#plotar os gráficos, então vamos trabalhar com os dados em minutos\n",
    "#Referência: https://stackoverflow.com/questions/26456825/convert-timedelta64ns-column-to-seconds-in-python-pandas-dataframe\n",
    "\n",
    "dados['DURACAO_SERVICO_min'] = dados['DURACAO_SERVICO'].astype('timedelta64[m]')"
   ]
  },
  {
   "cell_type": "code",
   "execution_count": 134,
   "metadata": {
    "scrolled": true
   },
   "outputs": [
    {
     "data": {
      "text/html": [
       "<div>\n",
       "<style scoped>\n",
       "    .dataframe tbody tr th:only-of-type {\n",
       "        vertical-align: middle;\n",
       "    }\n",
       "\n",
       "    .dataframe tbody tr th {\n",
       "        vertical-align: top;\n",
       "    }\n",
       "\n",
       "    .dataframe thead th {\n",
       "        text-align: right;\n",
       "    }\n",
       "</style>\n",
       "<table border=\"1\" class=\"dataframe\">\n",
       "  <thead>\n",
       "    <tr style=\"text-align: right;\">\n",
       "      <th></th>\n",
       "      <th>DES_CONJUNTO</th>\n",
       "      <th>QTD_CONS</th>\n",
       "      <th>DAT_INICIO</th>\n",
       "      <th>INTERRUPCAO_INICIO</th>\n",
       "      <th>INTERRUPCAO_TERMINO</th>\n",
       "      <th>DURACAO_SERVICO</th>\n",
       "      <th>DURACAO_SERVICO_min</th>\n",
       "    </tr>\n",
       "  </thead>\n",
       "  <tbody>\n",
       "    <tr>\n",
       "      <th>9</th>\n",
       "      <td>ARI FRANCO</td>\n",
       "      <td>116</td>\n",
       "      <td>2018-03-31</td>\n",
       "      <td>2018-03-31 23:48:00</td>\n",
       "      <td>2018-04-01 04:12:42</td>\n",
       "      <td>04:24:42</td>\n",
       "      <td>264.0</td>\n",
       "    </tr>\n",
       "    <tr>\n",
       "      <th>150</th>\n",
       "      <td>ARI FRANCO</td>\n",
       "      <td>54</td>\n",
       "      <td>2018-03-31</td>\n",
       "      <td>2018-03-31 16:57:00</td>\n",
       "      <td>2018-03-31 22:14:08</td>\n",
       "      <td>05:17:08</td>\n",
       "      <td>317.0</td>\n",
       "    </tr>\n",
       "    <tr>\n",
       "      <th>227</th>\n",
       "      <td>ARI FRANCO</td>\n",
       "      <td>1</td>\n",
       "      <td>2018-03-31</td>\n",
       "      <td>2018-03-31 13:31:32</td>\n",
       "      <td>2018-04-01 12:25:00</td>\n",
       "      <td>22:53:28</td>\n",
       "      <td>1373.0</td>\n",
       "    </tr>\n",
       "    <tr>\n",
       "      <th>233</th>\n",
       "      <td>ARI FRANCO</td>\n",
       "      <td>1</td>\n",
       "      <td>2018-03-31</td>\n",
       "      <td>2018-03-31 13:21:00</td>\n",
       "      <td>2018-03-31 13:50:00</td>\n",
       "      <td>00:29:00</td>\n",
       "      <td>29.0</td>\n",
       "    </tr>\n",
       "    <tr>\n",
       "      <th>247</th>\n",
       "      <td>ARI FRANCO</td>\n",
       "      <td>1</td>\n",
       "      <td>2018-03-31</td>\n",
       "      <td>2018-03-31 12:38:26</td>\n",
       "      <td>2018-03-31 18:35:00</td>\n",
       "      <td>05:56:34</td>\n",
       "      <td>356.0</td>\n",
       "    </tr>\n",
       "  </tbody>\n",
       "</table>\n",
       "</div>"
      ],
      "text/plain": [
       "    DES_CONJUNTO  QTD_CONS DAT_INICIO  INTERRUPCAO_INICIO INTERRUPCAO_TERMINO  \\\n",
       "9     ARI FRANCO       116 2018-03-31 2018-03-31 23:48:00 2018-04-01 04:12:42   \n",
       "150   ARI FRANCO        54 2018-03-31 2018-03-31 16:57:00 2018-03-31 22:14:08   \n",
       "227   ARI FRANCO         1 2018-03-31 2018-03-31 13:31:32 2018-04-01 12:25:00   \n",
       "233   ARI FRANCO         1 2018-03-31 2018-03-31 13:21:00 2018-03-31 13:50:00   \n",
       "247   ARI FRANCO         1 2018-03-31 2018-03-31 12:38:26 2018-03-31 18:35:00   \n",
       "\n",
       "    DURACAO_SERVICO  DURACAO_SERVICO_min  \n",
       "9          04:24:42                264.0  \n",
       "150        05:17:08                317.0  \n",
       "227        22:53:28               1373.0  \n",
       "233        00:29:00                 29.0  \n",
       "247        05:56:34                356.0  "
      ]
     },
     "execution_count": 134,
     "metadata": {},
     "output_type": "execute_result"
    }
   ],
   "source": [
    "dados.head()"
   ]
  },
  {
   "cell_type": "code",
   "execution_count": 135,
   "metadata": {},
   "outputs": [
    {
     "data": {
      "text/plain": [
       "<matplotlib.axes._subplots.AxesSubplot at 0x1dfdfab6d30>"
      ]
     },
     "execution_count": 135,
     "metadata": {},
     "output_type": "execute_result"
    },
    {
     "data": {
      "image/png": "[encoded data removed]",
      "text/plain": [
       "<Figure size 432x288 with 1 Axes>"
      ]
     },
     "metadata": {},
     "output_type": "display_data"
    }
   ],
   "source": [
    "dados[\"DURACAO_SERVICO_min\"].plot.hist(bins=30, edgecolor='black')"
   ]
  },
  {
   "cell_type": "code",
   "execution_count": 136,
   "metadata": {},
   "outputs": [
    {
     "data": {
      "text/plain": [
       "(307, 7)"
      ]
     },
     "execution_count": 136,
     "metadata": {},
     "output_type": "execute_result"
    }
   ],
   "source": [
    "dados.shape"
   ]
  },
  {
   "cell_type": "code",
   "execution_count": 145,
   "metadata": {},
   "outputs": [
    {
     "name": "stderr",
     "output_type": "stream",
     "text": [
      "C:\\Users\\marce\\Anaconda3\\lib\\site-packages\\matplotlib\\axes\\_axes.py:6462: UserWarning: The 'normed' kwarg is deprecated, and has been replaced by the 'density' kwarg.\n",
      "  warnings.warn(\"The 'normed' kwarg is deprecated, and has been \"\n"
     ]
    },
    {
     "data": {
      "text/plain": [
       "<matplotlib.axes._subplots.AxesSubplot at 0x1dfdf87efd0>"
      ]
     },
     "execution_count": 145,
     "metadata": {},
     "output_type": "execute_result"
    },
    {
     "data": {
      "image/png": "[encoded data removed]",
      "text/plain": [
       "<Figure size 432x288 with 1 Axes>"
      ]
     },
     "metadata": {},
     "output_type": "display_data"
    }
   ],
   "source": [
    "# Vamos verificar quais dados podem ser excluídos\n",
    "\n",
    "import seaborn as sns\n",
    "\n",
    "sns.distplot(dados[\"DURACAO_SERVICO_min\"])"
   ]
  },
  {
   "cell_type": "code",
   "execution_count": 142,
   "metadata": {},
   "outputs": [
    {
     "name": "stderr",
     "output_type": "stream",
     "text": [
      "C:\\Users\\marce\\Anaconda3\\lib\\site-packages\\matplotlib\\axes\\_axes.py:6462: UserWarning: The 'normed' kwarg is deprecated, and has been replaced by the 'density' kwarg.\n",
      "  warnings.warn(\"The 'normed' kwarg is deprecated, and has been \"\n"
     ]
    },
    {
     "data": {
      "text/plain": [
       "<matplotlib.axes._subplots.AxesSubplot at 0x1dfdf6d9940>"
      ]
     },
     "execution_count": 142,
     "metadata": {},
     "output_type": "execute_result"
    },
    {
     "data": {
      "image/png": "[encoded data removed]",
      "text/plain": [
       "<Figure size 432x288 with 1 Axes>"
      ]
     },
     "metadata": {},
     "output_type": "display_data"
    }
   ],
   "source": [
    "#teste estatístico para exclusão de outliers\n",
    "\n",
    "q1 = float(dados[\"DURACAO_SERVICO_min\"].quantile([0.25]))\n",
    "q3 = float(dados[\"DURACAO_SERVICO_min\"].quantile([0.75]))\n",
    "\n",
    "med = dados[\"DURACAO_SERVICO_min\"].median()\n",
    "\n",
    "xmin = med - 1.5*(q3-q1)\n",
    "xmax = med + 1.5*(q3-q1)\n",
    "\n",
    "clean = dados[(dados[\"DURACAO_SERVICO_min\"]>=xmin)&(dados[\"DURACAO_SERVICO_min\"]<=xmax)]\n",
    "\n",
    "sns.distplot(clean[\"DURACAO_SERVICO_min\"])"
   ]
  },
  {
   "cell_type": "code",
   "execution_count": 143,
   "metadata": {},
   "outputs": [
    {
     "name": "stdout",
     "output_type": "stream",
     "text": [
      "mínimo é -967.25 e máximo é 1377.25\n"
     ]
    }
   ],
   "source": [
    "print(\"mínimo é\", xmin, \"e\", \"máximo é\", xmax)"
   ]
  },
  {
   "cell_type": "code",
   "execution_count": 146,
   "metadata": {},
   "outputs": [
    {
     "name": "stdout",
     "output_type": "stream",
     "text": [
      "q1 48.0 e q3 829.5\n"
     ]
    }
   ],
   "source": [
    "print (\"q1\", q1, \"e\", \"q3\", q3)"
   ]
  },
  {
   "cell_type": "code",
   "execution_count": 147,
   "metadata": {},
   "outputs": [
    {
     "name": "stdout",
     "output_type": "stream",
     "text": [
      "mediana 205.0\n"
     ]
    }
   ],
   "source": [
    "print (\"mediana\", med)"
   ]
  },
  {
   "cell_type": "code",
   "execution_count": 148,
   "metadata": {},
   "outputs": [
    {
     "data": {
      "image/png": "[encoded data removed]",
      "text/plain": [
       "<Figure size 432x288 with 1 Axes>"
      ]
     },
     "metadata": {},
     "output_type": "display_data"
    }
   ],
   "source": [
    "boxplot = dados.boxplot(column=['DURACAO_SERVICO_min'])"
   ]
  },
  {
   "cell_type": "code",
   "execution_count": 149,
   "metadata": {},
   "outputs": [
    {
     "data": {
      "text/plain": [
       "(256, 7)"
      ]
     },
     "execution_count": 149,
     "metadata": {},
     "output_type": "execute_result"
    }
   ],
   "source": [
    "clean.shape"
   ]
  },
  {
   "cell_type": "code",
   "execution_count": 150,
   "metadata": {},
   "outputs": [
    {
     "data": {
      "text/html": [
       "<div>\n",
       "<style scoped>\n",
       "    .dataframe tbody tr th:only-of-type {\n",
       "        vertical-align: middle;\n",
       "    }\n",
       "\n",
       "    .dataframe tbody tr th {\n",
       "        vertical-align: top;\n",
       "    }\n",
       "\n",
       "    .dataframe thead th {\n",
       "        text-align: right;\n",
       "    }\n",
       "</style>\n",
       "<table border=\"1\" class=\"dataframe\">\n",
       "  <thead>\n",
       "    <tr style=\"text-align: right;\">\n",
       "      <th></th>\n",
       "      <th>QTD_CONS</th>\n",
       "      <th>DURACAO_SERVICO</th>\n",
       "      <th>DURACAO_SERVICO_min</th>\n",
       "    </tr>\n",
       "  </thead>\n",
       "  <tbody>\n",
       "    <tr>\n",
       "      <th>count</th>\n",
       "      <td>256.000000</td>\n",
       "      <td>256</td>\n",
       "      <td>256.000000</td>\n",
       "    </tr>\n",
       "    <tr>\n",
       "      <th>mean</th>\n",
       "      <td>215.929688</td>\n",
       "      <td>0 days 04:36:29.117187</td>\n",
       "      <td>276.234375</td>\n",
       "    </tr>\n",
       "    <tr>\n",
       "      <th>std</th>\n",
       "      <td>598.605251</td>\n",
       "      <td>0 days 05:35:51.672016</td>\n",
       "      <td>335.819372</td>\n",
       "    </tr>\n",
       "    <tr>\n",
       "      <th>min</th>\n",
       "      <td>1.000000</td>\n",
       "      <td>0 days 00:00:00</td>\n",
       "      <td>0.000000</td>\n",
       "    </tr>\n",
       "    <tr>\n",
       "      <th>25%</th>\n",
       "      <td>1.000000</td>\n",
       "      <td>0 days 00:35:00</td>\n",
       "      <td>35.000000</td>\n",
       "    </tr>\n",
       "    <tr>\n",
       "      <th>50%</th>\n",
       "      <td>15.000000</td>\n",
       "      <td>0 days 02:05:27.500000</td>\n",
       "      <td>125.000000</td>\n",
       "    </tr>\n",
       "    <tr>\n",
       "      <th>75%</th>\n",
       "      <td>90.250000</td>\n",
       "      <td>0 days 06:46:44</td>\n",
       "      <td>406.250000</td>\n",
       "    </tr>\n",
       "    <tr>\n",
       "      <th>max</th>\n",
       "      <td>3519.000000</td>\n",
       "      <td>0 days 22:53:28</td>\n",
       "      <td>1373.000000</td>\n",
       "    </tr>\n",
       "  </tbody>\n",
       "</table>\n",
       "</div>"
      ],
      "text/plain": [
       "          QTD_CONS         DURACAO_SERVICO  DURACAO_SERVICO_min\n",
       "count   256.000000                     256           256.000000\n",
       "mean    215.929688  0 days 04:36:29.117187           276.234375\n",
       "std     598.605251  0 days 05:35:51.672016           335.819372\n",
       "min       1.000000         0 days 00:00:00             0.000000\n",
       "25%       1.000000         0 days 00:35:00            35.000000\n",
       "50%      15.000000  0 days 02:05:27.500000           125.000000\n",
       "75%      90.250000         0 days 06:46:44           406.250000\n",
       "max    3519.000000         0 days 22:53:28          1373.000000"
      ]
     },
     "execution_count": 150,
     "metadata": {},
     "output_type": "execute_result"
    }
   ],
   "source": [
    "clean.describe()"
   ]
  },
  {
   "cell_type": "code",
   "execution_count": 151,
   "metadata": {},
   "outputs": [],
   "source": [
    "import numpy as np"
   ]
  },
  {
   "cell_type": "code",
   "execution_count": 152,
   "metadata": {},
   "outputs": [],
   "source": [
    "x = np.sort (clean[\"DURACAO_SERVICO_min\"])"
   ]
  },
  {
   "cell_type": "code",
   "execution_count": 153,
   "metadata": {},
   "outputs": [],
   "source": [
    "y = np.arange (1, len(x) + 1)/len(x)"
   ]
  },
  {
   "cell_type": "code",
   "execution_count": 154,
   "metadata": {},
   "outputs": [
    {
     "data": {
      "image/png": "[encoded data removed]",
      "text/plain": [
       "<Figure size 432x288 with 1 Axes>"
      ]
     },
     "metadata": {},
     "output_type": "display_data"
    }
   ],
   "source": [
    "_ = plt.xlabel ('duração do serviço_u')\n",
    "_ = plt.ylabel ('função distribuição acumulada')\n",
    "_ = plt.plot (x,y, marker = '.', linestyle = 'none')"
   ]
  },
  {
   "cell_type": "code",
   "execution_count": 155,
   "metadata": {},
   "outputs": [
    {
     "name": "stdout",
     "output_type": "stream",
     "text": [
      "276.234375\n"
     ]
    }
   ],
   "source": [
    "#precisamos do tempo de duração do serviço médio, para calcular a taxa de serviços que \n",
    "#será usada na teoria de filas\n",
    "\n",
    "tempo_medio_serviço = clean ['DURACAO_SERVICO_min'].mean()\n",
    "\n",
    "print (tempo_medio_serviço)"
   ]
  },
  {
   "cell_type": "code",
   "execution_count": 156,
   "metadata": {},
   "outputs": [
    {
     "name": "stdout",
     "output_type": "stream",
     "text": [
      "0.003620114259856327\n"
     ]
    }
   ],
   "source": [
    "#A taxa u é um sobre o tempo medio de duração de serviço.\n",
    "\n",
    "u = 1/(tempo_medio_serviço)\n",
    "\n",
    "print (u)"
   ]
  },
  {
   "cell_type": "code",
   "execution_count": 157,
   "metadata": {},
   "outputs": [
    {
     "data": {
      "text/html": [
       "<div>\n",
       "<style scoped>\n",
       "    .dataframe tbody tr th:only-of-type {\n",
       "        vertical-align: middle;\n",
       "    }\n",
       "\n",
       "    .dataframe tbody tr th {\n",
       "        vertical-align: top;\n",
       "    }\n",
       "\n",
       "    .dataframe thead th {\n",
       "        text-align: right;\n",
       "    }\n",
       "</style>\n",
       "<table border=\"1\" class=\"dataframe\">\n",
       "  <thead>\n",
       "    <tr style=\"text-align: right;\">\n",
       "      <th></th>\n",
       "      <th>DES_CONJUNTO</th>\n",
       "      <th>QTD_CONS</th>\n",
       "      <th>DAT_INICIO</th>\n",
       "      <th>INTERRUPCAO_INICIO</th>\n",
       "      <th>INTERRUPCAO_TERMINO</th>\n",
       "      <th>DURACAO_SERVICO</th>\n",
       "      <th>DURACAO_SERVICO_min</th>\n",
       "    </tr>\n",
       "  </thead>\n",
       "  <tbody>\n",
       "    <tr>\n",
       "      <th>9</th>\n",
       "      <td>ARI FRANCO</td>\n",
       "      <td>116</td>\n",
       "      <td>2018-03-31</td>\n",
       "      <td>2018-03-31 23:48:00</td>\n",
       "      <td>2018-04-01 04:12:42</td>\n",
       "      <td>04:24:42</td>\n",
       "      <td>264.0</td>\n",
       "    </tr>\n",
       "    <tr>\n",
       "      <th>150</th>\n",
       "      <td>ARI FRANCO</td>\n",
       "      <td>54</td>\n",
       "      <td>2018-03-31</td>\n",
       "      <td>2018-03-31 16:57:00</td>\n",
       "      <td>2018-03-31 22:14:08</td>\n",
       "      <td>05:17:08</td>\n",
       "      <td>317.0</td>\n",
       "    </tr>\n",
       "    <tr>\n",
       "      <th>227</th>\n",
       "      <td>ARI FRANCO</td>\n",
       "      <td>1</td>\n",
       "      <td>2018-03-31</td>\n",
       "      <td>2018-03-31 13:31:32</td>\n",
       "      <td>2018-04-01 12:25:00</td>\n",
       "      <td>22:53:28</td>\n",
       "      <td>1373.0</td>\n",
       "    </tr>\n",
       "    <tr>\n",
       "      <th>233</th>\n",
       "      <td>ARI FRANCO</td>\n",
       "      <td>1</td>\n",
       "      <td>2018-03-31</td>\n",
       "      <td>2018-03-31 13:21:00</td>\n",
       "      <td>2018-03-31 13:50:00</td>\n",
       "      <td>00:29:00</td>\n",
       "      <td>29.0</td>\n",
       "    </tr>\n",
       "    <tr>\n",
       "      <th>247</th>\n",
       "      <td>ARI FRANCO</td>\n",
       "      <td>1</td>\n",
       "      <td>2018-03-31</td>\n",
       "      <td>2018-03-31 12:38:26</td>\n",
       "      <td>2018-03-31 18:35:00</td>\n",
       "      <td>05:56:34</td>\n",
       "      <td>356.0</td>\n",
       "    </tr>\n",
       "  </tbody>\n",
       "</table>\n",
       "</div>"
      ],
      "text/plain": [
       "    DES_CONJUNTO  QTD_CONS DAT_INICIO  INTERRUPCAO_INICIO INTERRUPCAO_TERMINO  \\\n",
       "9     ARI FRANCO       116 2018-03-31 2018-03-31 23:48:00 2018-04-01 04:12:42   \n",
       "150   ARI FRANCO        54 2018-03-31 2018-03-31 16:57:00 2018-03-31 22:14:08   \n",
       "227   ARI FRANCO         1 2018-03-31 2018-03-31 13:31:32 2018-04-01 12:25:00   \n",
       "233   ARI FRANCO         1 2018-03-31 2018-03-31 13:21:00 2018-03-31 13:50:00   \n",
       "247   ARI FRANCO         1 2018-03-31 2018-03-31 12:38:26 2018-03-31 18:35:00   \n",
       "\n",
       "    DURACAO_SERVICO  DURACAO_SERVICO_min  \n",
       "9          04:24:42                264.0  \n",
       "150        05:17:08                317.0  \n",
       "227        22:53:28               1373.0  \n",
       "233        00:29:00                 29.0  \n",
       "247        05:56:34                356.0  "
      ]
     },
     "execution_count": 157,
     "metadata": {},
     "output_type": "execute_result"
    }
   ],
   "source": [
    "clean.head()"
   ]
  },
  {
   "cell_type": "code",
   "execution_count": 158,
   "metadata": {},
   "outputs": [],
   "source": [
    "#precisamos reorganizar o dataframe em ordem crescente de tempo do início das chegadas, \n",
    "#para calcular o intervalo entre as chegadas\n",
    "\n",
    "dados = clean.sort_values(['INTERRUPCAO_INICIO'])"
   ]
  },
  {
   "cell_type": "code",
   "execution_count": 159,
   "metadata": {
    "scrolled": true
   },
   "outputs": [
    {
     "data": {
      "text/html": [
       "<div>\n",
       "<style scoped>\n",
       "    .dataframe tbody tr th:only-of-type {\n",
       "        vertical-align: middle;\n",
       "    }\n",
       "\n",
       "    .dataframe tbody tr th {\n",
       "        vertical-align: top;\n",
       "    }\n",
       "\n",
       "    .dataframe thead th {\n",
       "        text-align: right;\n",
       "    }\n",
       "</style>\n",
       "<table border=\"1\" class=\"dataframe\">\n",
       "  <thead>\n",
       "    <tr style=\"text-align: right;\">\n",
       "      <th></th>\n",
       "      <th>DES_CONJUNTO</th>\n",
       "      <th>QTD_CONS</th>\n",
       "      <th>DAT_INICIO</th>\n",
       "      <th>INTERRUPCAO_INICIO</th>\n",
       "      <th>INTERRUPCAO_TERMINO</th>\n",
       "      <th>DURACAO_SERVICO</th>\n",
       "      <th>DURACAO_SERVICO_min</th>\n",
       "    </tr>\n",
       "  </thead>\n",
       "  <tbody>\n",
       "    <tr>\n",
       "      <th>25727</th>\n",
       "      <td>ARI FRANCO</td>\n",
       "      <td>1</td>\n",
       "      <td>2018-03-01</td>\n",
       "      <td>2018-03-01 05:00:00</td>\n",
       "      <td>2018-03-01 05:12:00</td>\n",
       "      <td>00:12:00</td>\n",
       "      <td>12.0</td>\n",
       "    </tr>\n",
       "    <tr>\n",
       "      <th>25549</th>\n",
       "      <td>ARI FRANCO</td>\n",
       "      <td>1</td>\n",
       "      <td>2018-03-01</td>\n",
       "      <td>2018-03-01 09:59:18</td>\n",
       "      <td>2018-03-01 13:51:02</td>\n",
       "      <td>03:51:44</td>\n",
       "      <td>231.0</td>\n",
       "    </tr>\n",
       "    <tr>\n",
       "      <th>25494</th>\n",
       "      <td>ARI FRANCO</td>\n",
       "      <td>21</td>\n",
       "      <td>2018-03-01</td>\n",
       "      <td>2018-03-01 11:01:00</td>\n",
       "      <td>2018-03-01 11:45:00</td>\n",
       "      <td>00:44:00</td>\n",
       "      <td>44.0</td>\n",
       "    </tr>\n",
       "    <tr>\n",
       "      <th>25483</th>\n",
       "      <td>ARI FRANCO</td>\n",
       "      <td>1</td>\n",
       "      <td>2018-03-01</td>\n",
       "      <td>2018-03-01 11:10:00</td>\n",
       "      <td>2018-03-01 11:20:00</td>\n",
       "      <td>00:10:00</td>\n",
       "      <td>10.0</td>\n",
       "    </tr>\n",
       "    <tr>\n",
       "      <th>25453</th>\n",
       "      <td>ARI FRANCO</td>\n",
       "      <td>1</td>\n",
       "      <td>2018-03-01</td>\n",
       "      <td>2018-03-01 11:37:00</td>\n",
       "      <td>2018-03-01 17:35:00</td>\n",
       "      <td>05:58:00</td>\n",
       "      <td>358.0</td>\n",
       "    </tr>\n",
       "  </tbody>\n",
       "</table>\n",
       "</div>"
      ],
      "text/plain": [
       "      DES_CONJUNTO  QTD_CONS DAT_INICIO  INTERRUPCAO_INICIO  \\\n",
       "25727   ARI FRANCO         1 2018-03-01 2018-03-01 05:00:00   \n",
       "25549   ARI FRANCO         1 2018-03-01 2018-03-01 09:59:18   \n",
       "25494   ARI FRANCO        21 2018-03-01 2018-03-01 11:01:00   \n",
       "25483   ARI FRANCO         1 2018-03-01 2018-03-01 11:10:00   \n",
       "25453   ARI FRANCO         1 2018-03-01 2018-03-01 11:37:00   \n",
       "\n",
       "      INTERRUPCAO_TERMINO DURACAO_SERVICO  DURACAO_SERVICO_min  \n",
       "25727 2018-03-01 05:12:00        00:12:00                 12.0  \n",
       "25549 2018-03-01 13:51:02        03:51:44                231.0  \n",
       "25494 2018-03-01 11:45:00        00:44:00                 44.0  \n",
       "25483 2018-03-01 11:20:00        00:10:00                 10.0  \n",
       "25453 2018-03-01 17:35:00        05:58:00                358.0  "
      ]
     },
     "execution_count": 159,
     "metadata": {},
     "output_type": "execute_result"
    }
   ],
   "source": [
    "dados.head()"
   ]
  },
  {
   "cell_type": "code",
   "execution_count": 160,
   "metadata": {},
   "outputs": [],
   "source": [
    "#os índices ficaram bagunçados, pois reordenamos o dataframe com base em uma coluna e os \n",
    "#índices se mantiveram iguais a organização anterior. Vamos rearruma-los.\n",
    "\n",
    "dados = dados.reset_index(drop=True)"
   ]
  },
  {
   "cell_type": "code",
   "execution_count": 161,
   "metadata": {},
   "outputs": [
    {
     "data": {
      "text/html": [
       "<div>\n",
       "<style scoped>\n",
       "    .dataframe tbody tr th:only-of-type {\n",
       "        vertical-align: middle;\n",
       "    }\n",
       "\n",
       "    .dataframe tbody tr th {\n",
       "        vertical-align: top;\n",
       "    }\n",
       "\n",
       "    .dataframe thead th {\n",
       "        text-align: right;\n",
       "    }\n",
       "</style>\n",
       "<table border=\"1\" class=\"dataframe\">\n",
       "  <thead>\n",
       "    <tr style=\"text-align: right;\">\n",
       "      <th></th>\n",
       "      <th>DES_CONJUNTO</th>\n",
       "      <th>QTD_CONS</th>\n",
       "      <th>DAT_INICIO</th>\n",
       "      <th>INTERRUPCAO_INICIO</th>\n",
       "      <th>INTERRUPCAO_TERMINO</th>\n",
       "      <th>DURACAO_SERVICO</th>\n",
       "      <th>DURACAO_SERVICO_min</th>\n",
       "    </tr>\n",
       "  </thead>\n",
       "  <tbody>\n",
       "    <tr>\n",
       "      <th>0</th>\n",
       "      <td>ARI FRANCO</td>\n",
       "      <td>1</td>\n",
       "      <td>2018-03-01</td>\n",
       "      <td>2018-03-01 05:00:00</td>\n",
       "      <td>2018-03-01 05:12:00</td>\n",
       "      <td>00:12:00</td>\n",
       "      <td>12.0</td>\n",
       "    </tr>\n",
       "    <tr>\n",
       "      <th>1</th>\n",
       "      <td>ARI FRANCO</td>\n",
       "      <td>1</td>\n",
       "      <td>2018-03-01</td>\n",
       "      <td>2018-03-01 09:59:18</td>\n",
       "      <td>2018-03-01 13:51:02</td>\n",
       "      <td>03:51:44</td>\n",
       "      <td>231.0</td>\n",
       "    </tr>\n",
       "    <tr>\n",
       "      <th>2</th>\n",
       "      <td>ARI FRANCO</td>\n",
       "      <td>21</td>\n",
       "      <td>2018-03-01</td>\n",
       "      <td>2018-03-01 11:01:00</td>\n",
       "      <td>2018-03-01 11:45:00</td>\n",
       "      <td>00:44:00</td>\n",
       "      <td>44.0</td>\n",
       "    </tr>\n",
       "    <tr>\n",
       "      <th>3</th>\n",
       "      <td>ARI FRANCO</td>\n",
       "      <td>1</td>\n",
       "      <td>2018-03-01</td>\n",
       "      <td>2018-03-01 11:10:00</td>\n",
       "      <td>2018-03-01 11:20:00</td>\n",
       "      <td>00:10:00</td>\n",
       "      <td>10.0</td>\n",
       "    </tr>\n",
       "    <tr>\n",
       "      <th>4</th>\n",
       "      <td>ARI FRANCO</td>\n",
       "      <td>1</td>\n",
       "      <td>2018-03-01</td>\n",
       "      <td>2018-03-01 11:37:00</td>\n",
       "      <td>2018-03-01 17:35:00</td>\n",
       "      <td>05:58:00</td>\n",
       "      <td>358.0</td>\n",
       "    </tr>\n",
       "  </tbody>\n",
       "</table>\n",
       "</div>"
      ],
      "text/plain": [
       "  DES_CONJUNTO  QTD_CONS DAT_INICIO  INTERRUPCAO_INICIO INTERRUPCAO_TERMINO  \\\n",
       "0   ARI FRANCO         1 2018-03-01 2018-03-01 05:00:00 2018-03-01 05:12:00   \n",
       "1   ARI FRANCO         1 2018-03-01 2018-03-01 09:59:18 2018-03-01 13:51:02   \n",
       "2   ARI FRANCO        21 2018-03-01 2018-03-01 11:01:00 2018-03-01 11:45:00   \n",
       "3   ARI FRANCO         1 2018-03-01 2018-03-01 11:10:00 2018-03-01 11:20:00   \n",
       "4   ARI FRANCO         1 2018-03-01 2018-03-01 11:37:00 2018-03-01 17:35:00   \n",
       "\n",
       "  DURACAO_SERVICO  DURACAO_SERVICO_min  \n",
       "0        00:12:00                 12.0  \n",
       "1        03:51:44                231.0  \n",
       "2        00:44:00                 44.0  \n",
       "3        00:10:00                 10.0  \n",
       "4        05:58:00                358.0  "
      ]
     },
     "execution_count": 161,
     "metadata": {},
     "output_type": "execute_result"
    }
   ],
   "source": [
    "dados.head()"
   ]
  },
  {
   "cell_type": "code",
   "execution_count": 162,
   "metadata": {},
   "outputs": [
    {
     "data": {
      "text/plain": [
       "(256, 7)"
      ]
     },
     "execution_count": 162,
     "metadata": {},
     "output_type": "execute_result"
    }
   ],
   "source": [
    "dados.shape"
   ]
  },
  {
   "cell_type": "code",
   "execution_count": 165,
   "metadata": {},
   "outputs": [],
   "source": [
    "writer = pd.ExcelWriter(r'C:\\Users\\marce\\Desktop\\Artigo\\POMS\\intervalo_entre_chamados_Ari_Franco.xlsx')\n",
    "dados.to_excel(writer,'intervalo_entre_chamados')\n",
    "writer.save()"
   ]
  },
  {
   "cell_type": "code",
   "execution_count": 185,
   "metadata": {},
   "outputs": [],
   "source": [
    "#vamos importar o intervalo entre os chamados\n",
    "\n",
    "intervalo_entre_chamados_Ari_Franco = pd.read_excel(\"intervalo_entre_chamados_Ari_Franco.xlsx\", sheet_name = 'intervalo_entre_chamados') "
   ]
  },
  {
   "cell_type": "code",
   "execution_count": 186,
   "metadata": {},
   "outputs": [
    {
     "data": {
      "text/html": [
       "<div>\n",
       "<style scoped>\n",
       "    .dataframe tbody tr th:only-of-type {\n",
       "        vertical-align: middle;\n",
       "    }\n",
       "\n",
       "    .dataframe tbody tr th {\n",
       "        vertical-align: top;\n",
       "    }\n",
       "\n",
       "    .dataframe thead th {\n",
       "        text-align: right;\n",
       "    }\n",
       "</style>\n",
       "<table border=\"1\" class=\"dataframe\">\n",
       "  <thead>\n",
       "    <tr style=\"text-align: right;\">\n",
       "      <th></th>\n",
       "      <th>intervalo_entre_chamados_Ari_Franco</th>\n",
       "    </tr>\n",
       "  </thead>\n",
       "  <tbody>\n",
       "    <tr>\n",
       "      <th>0</th>\n",
       "      <td>299.300000</td>\n",
       "    </tr>\n",
       "    <tr>\n",
       "      <th>1</th>\n",
       "      <td>61.700000</td>\n",
       "    </tr>\n",
       "    <tr>\n",
       "      <th>2</th>\n",
       "      <td>9.000000</td>\n",
       "    </tr>\n",
       "    <tr>\n",
       "      <th>3</th>\n",
       "      <td>27.000000</td>\n",
       "    </tr>\n",
       "    <tr>\n",
       "      <th>4</th>\n",
       "      <td>124.483333</td>\n",
       "    </tr>\n",
       "  </tbody>\n",
       "</table>\n",
       "</div>"
      ],
      "text/plain": [
       "   intervalo_entre_chamados_Ari_Franco\n",
       "0                           299.300000\n",
       "1                            61.700000\n",
       "2                             9.000000\n",
       "3                            27.000000\n",
       "4                           124.483333"
      ]
     },
     "execution_count": 186,
     "metadata": {},
     "output_type": "execute_result"
    }
   ],
   "source": [
    "intervalo_entre_chamados_Ari_Franco.head()"
   ]
  },
  {
   "cell_type": "code",
   "execution_count": 187,
   "metadata": {},
   "outputs": [],
   "source": [
    "intervalo_entre_chamados_Ari_Franco = intervalo_entre_chamados_Ari_Franco.sort_values(['intervalo_entre_chamados_Ari_Franco'])"
   ]
  },
  {
   "cell_type": "code",
   "execution_count": 191,
   "metadata": {},
   "outputs": [
    {
     "data": {
      "text/html": [
       "<div>\n",
       "<style scoped>\n",
       "    .dataframe tbody tr th:only-of-type {\n",
       "        vertical-align: middle;\n",
       "    }\n",
       "\n",
       "    .dataframe tbody tr th {\n",
       "        vertical-align: top;\n",
       "    }\n",
       "\n",
       "    .dataframe thead th {\n",
       "        text-align: right;\n",
       "    }\n",
       "</style>\n",
       "<table border=\"1\" class=\"dataframe\">\n",
       "  <thead>\n",
       "    <tr style=\"text-align: right;\">\n",
       "      <th></th>\n",
       "      <th>intervalo_entre_chamados_Ari_Franco</th>\n",
       "    </tr>\n",
       "  </thead>\n",
       "  <tbody>\n",
       "    <tr>\n",
       "      <th>231</th>\n",
       "      <td>0.0</td>\n",
       "    </tr>\n",
       "    <tr>\n",
       "      <th>230</th>\n",
       "      <td>0.0</td>\n",
       "    </tr>\n",
       "    <tr>\n",
       "      <th>174</th>\n",
       "      <td>0.0</td>\n",
       "    </tr>\n",
       "    <tr>\n",
       "      <th>154</th>\n",
       "      <td>0.0</td>\n",
       "    </tr>\n",
       "    <tr>\n",
       "      <th>158</th>\n",
       "      <td>0.0</td>\n",
       "    </tr>\n",
       "    <tr>\n",
       "      <th>50</th>\n",
       "      <td>0.0</td>\n",
       "    </tr>\n",
       "    <tr>\n",
       "      <th>242</th>\n",
       "      <td>0.0</td>\n",
       "    </tr>\n",
       "    <tr>\n",
       "      <th>244</th>\n",
       "      <td>0.0</td>\n",
       "    </tr>\n",
       "    <tr>\n",
       "      <th>165</th>\n",
       "      <td>0.0</td>\n",
       "    </tr>\n",
       "    <tr>\n",
       "      <th>26</th>\n",
       "      <td>0.0</td>\n",
       "    </tr>\n",
       "    <tr>\n",
       "      <th>164</th>\n",
       "      <td>0.0</td>\n",
       "    </tr>\n",
       "    <tr>\n",
       "      <th>108</th>\n",
       "      <td>0.0</td>\n",
       "    </tr>\n",
       "    <tr>\n",
       "      <th>111</th>\n",
       "      <td>0.0</td>\n",
       "    </tr>\n",
       "    <tr>\n",
       "      <th>34</th>\n",
       "      <td>0.0</td>\n",
       "    </tr>\n",
       "    <tr>\n",
       "      <th>159</th>\n",
       "      <td>0.0</td>\n",
       "    </tr>\n",
       "    <tr>\n",
       "      <th>120</th>\n",
       "      <td>0.0</td>\n",
       "    </tr>\n",
       "    <tr>\n",
       "      <th>126</th>\n",
       "      <td>0.0</td>\n",
       "    </tr>\n",
       "    <tr>\n",
       "      <th>125</th>\n",
       "      <td>0.0</td>\n",
       "    </tr>\n",
       "    <tr>\n",
       "      <th>122</th>\n",
       "      <td>0.0</td>\n",
       "    </tr>\n",
       "    <tr>\n",
       "      <th>160</th>\n",
       "      <td>0.0</td>\n",
       "    </tr>\n",
       "  </tbody>\n",
       "</table>\n",
       "</div>"
      ],
      "text/plain": [
       "     intervalo_entre_chamados_Ari_Franco\n",
       "231                                  0.0\n",
       "230                                  0.0\n",
       "174                                  0.0\n",
       "154                                  0.0\n",
       "158                                  0.0\n",
       "50                                   0.0\n",
       "242                                  0.0\n",
       "244                                  0.0\n",
       "165                                  0.0\n",
       "26                                   0.0\n",
       "164                                  0.0\n",
       "108                                  0.0\n",
       "111                                  0.0\n",
       "34                                   0.0\n",
       "159                                  0.0\n",
       "120                                  0.0\n",
       "126                                  0.0\n",
       "125                                  0.0\n",
       "122                                  0.0\n",
       "160                                  0.0"
      ]
     },
     "execution_count": 191,
     "metadata": {},
     "output_type": "execute_result"
    }
   ],
   "source": [
    "intervalo_entre_chamados_Ari_Franco.head(20)"
   ]
  },
  {
   "cell_type": "code",
   "execution_count": 189,
   "metadata": {},
   "outputs": [
    {
     "data": {
      "text/plain": [
       "<matplotlib.axes._subplots.AxesSubplot at 0x1dfe0f14ba8>"
      ]
     },
     "execution_count": 189,
     "metadata": {},
     "output_type": "execute_result"
    },
    {
     "data": {
      "image/png": "[encoded data removed]",
      "text/plain": [
       "<Figure size 432x288 with 1 Axes>"
      ]
     },
     "metadata": {},
     "output_type": "display_data"
    }
   ],
   "source": [
    "intervalo_entre_chamados_Ari_Franco[\"intervalo_entre_chamados_Ari_Franco\"].plot.hist(bins=30, edgecolor='black')"
   ]
  },
  {
   "cell_type": "code",
   "execution_count": 190,
   "metadata": {},
   "outputs": [
    {
     "name": "stderr",
     "output_type": "stream",
     "text": [
      "C:\\Users\\marce\\Anaconda3\\lib\\site-packages\\matplotlib\\axes\\_axes.py:6462: UserWarning: The 'normed' kwarg is deprecated, and has been replaced by the 'density' kwarg.\n",
      "  warnings.warn(\"The 'normed' kwarg is deprecated, and has been \"\n"
     ]
    },
    {
     "data": {
      "text/plain": [
       "<matplotlib.axes._subplots.AxesSubplot at 0x1dfe26e0208>"
      ]
     },
     "execution_count": 190,
     "metadata": {},
     "output_type": "execute_result"
    },
    {
     "data": {
      "image/png": "[encoded data removed]",
      "text/plain": [
       "<Figure size 432x288 with 1 Axes>"
      ]
     },
     "metadata": {},
     "output_type": "display_data"
    }
   ],
   "source": [
    "# Vamos verificar quais dados podem ser excluídos\n",
    "\n",
    "import seaborn as sns\n",
    "\n",
    "sns.distplot(intervalo_entre_chamados_Ari_Franco[\"intervalo_entre_chamados_Ari_Franco\"])"
   ]
  },
  {
   "cell_type": "code",
   "execution_count": 194,
   "metadata": {},
   "outputs": [
    {
     "name": "stderr",
     "output_type": "stream",
     "text": [
      "C:\\Users\\marce\\Anaconda3\\lib\\site-packages\\matplotlib\\axes\\_axes.py:6462: UserWarning: The 'normed' kwarg is deprecated, and has been replaced by the 'density' kwarg.\n",
      "  warnings.warn(\"The 'normed' kwarg is deprecated, and has been \"\n"
     ]
    },
    {
     "data": {
      "text/plain": [
       "<matplotlib.axes._subplots.AxesSubplot at 0x1dfe22f7cf8>"
      ]
     },
     "execution_count": 194,
     "metadata": {},
     "output_type": "execute_result"
    },
    {
     "data": {
      "image/png": "[encoded data removed]",
      "text/plain": [
       "<Figure size 432x288 with 1 Axes>"
      ]
     },
     "metadata": {},
     "output_type": "display_data"
    }
   ],
   "source": [
    "#teste estatístico para exclusão de outliers\n",
    "\n",
    "q1 = float(intervalo_entre_chamados_Ari_Franco[\"intervalo_entre_chamados_Ari_Franco\"].quantile([0.25]))\n",
    "q3 = float(intervalo_entre_chamados_Ari_Franco[\"intervalo_entre_chamados_Ari_Franco\"].quantile([0.75]))\n",
    "\n",
    "med = intervalo_entre_chamados_Ari_Franco[\"intervalo_entre_chamados_Ari_Franco\"].median()\n",
    "\n",
    "xmin = med - 1.5*(q3-q1)\n",
    "xmax = med + 1.5*(q3-q1)\n",
    "\n",
    "Intervalo_entre_chamados_sem_outliers_Ari_Franco = intervalo_entre_chamados_Ari_Franco[(intervalo_entre_chamados_Ari_Franco[\"intervalo_entre_chamados_Ari_Franco\"]>=xmin)&(intervalo_entre_chamados_Ari_Franco[\"intervalo_entre_chamados_Ari_Franco\"]<=xmax)]\n",
    "\n",
    "sns.distplot(Intervalo_entre_chamados_sem_outliers_Ari_Franco[\"intervalo_entre_chamados_Ari_Franco\"])"
   ]
  },
  {
   "cell_type": "code",
   "execution_count": 197,
   "metadata": {},
   "outputs": [
    {
     "data": {
      "image/png": "[encoded data removed]",
      "text/plain": [
       "<Figure size 432x288 with 1 Axes>"
      ]
     },
     "metadata": {},
     "output_type": "display_data"
    }
   ],
   "source": [
    "boxplot2 = intervalo_entre_chamados_Ari_Franco.boxplot(column=['intervalo_entre_chamados_Ari_Franco'])"
   ]
  },
  {
   "cell_type": "code",
   "execution_count": 198,
   "metadata": {},
   "outputs": [
    {
     "data": {
      "text/plain": [
       "(225, 1)"
      ]
     },
     "execution_count": 198,
     "metadata": {},
     "output_type": "execute_result"
    }
   ],
   "source": [
    "duracao_servico_sem_outliers.shape"
   ]
  },
  {
   "cell_type": "code",
   "execution_count": 199,
   "metadata": {},
   "outputs": [
    {
     "data": {
      "text/html": [
       "<div>\n",
       "<style scoped>\n",
       "    .dataframe tbody tr th:only-of-type {\n",
       "        vertical-align: middle;\n",
       "    }\n",
       "\n",
       "    .dataframe tbody tr th {\n",
       "        vertical-align: top;\n",
       "    }\n",
       "\n",
       "    .dataframe thead th {\n",
       "        text-align: right;\n",
       "    }\n",
       "</style>\n",
       "<table border=\"1\" class=\"dataframe\">\n",
       "  <thead>\n",
       "    <tr style=\"text-align: right;\">\n",
       "      <th></th>\n",
       "      <th>intervalo_entre_chamados_Ari_Franco</th>\n",
       "    </tr>\n",
       "  </thead>\n",
       "  <tbody>\n",
       "    <tr>\n",
       "      <th>count</th>\n",
       "      <td>225.000000</td>\n",
       "    </tr>\n",
       "    <tr>\n",
       "      <th>mean</th>\n",
       "      <td>103.865481</td>\n",
       "    </tr>\n",
       "    <tr>\n",
       "      <th>std</th>\n",
       "      <td>113.224946</td>\n",
       "    </tr>\n",
       "    <tr>\n",
       "      <th>min</th>\n",
       "      <td>0.000000</td>\n",
       "    </tr>\n",
       "    <tr>\n",
       "      <th>25%</th>\n",
       "      <td>9.000000</td>\n",
       "    </tr>\n",
       "    <tr>\n",
       "      <th>50%</th>\n",
       "      <td>61.700000</td>\n",
       "    </tr>\n",
       "    <tr>\n",
       "      <th>75%</th>\n",
       "      <td>153.000000</td>\n",
       "    </tr>\n",
       "    <tr>\n",
       "      <th>max</th>\n",
       "      <td>413.000000</td>\n",
       "    </tr>\n",
       "  </tbody>\n",
       "</table>\n",
       "</div>"
      ],
      "text/plain": [
       "       intervalo_entre_chamados_Ari_Franco\n",
       "count                           225.000000\n",
       "mean                            103.865481\n",
       "std                             113.224946\n",
       "min                               0.000000\n",
       "25%                               9.000000\n",
       "50%                              61.700000\n",
       "75%                             153.000000\n",
       "max                             413.000000"
      ]
     },
     "execution_count": 199,
     "metadata": {},
     "output_type": "execute_result"
    }
   ],
   "source": [
    "duracao_servico_sem_outliers.describe()"
   ]
  },
  {
   "cell_type": "code",
   "execution_count": 200,
   "metadata": {},
   "outputs": [
    {
     "name": "stdout",
     "output_type": "stream",
     "text": [
      "103.86548148128205\n"
     ]
    }
   ],
   "source": [
    "tempo_medio_entre_chegadas = duracao_servico_sem_outliers[\"intervalo_entre_chamados_Ari_Franco\"].mean()\n",
    "\n",
    "print (tempo_medio_entre_chegadas)"
   ]
  },
  {
   "cell_type": "code",
   "execution_count": 201,
   "metadata": {},
   "outputs": [
    {
     "name": "stdout",
     "output_type": "stream",
     "text": [
      "0.009627837716038638\n"
     ]
    }
   ],
   "source": [
    "lambdaa = 1/tempo_medio_entre_chegadas\n",
    "\n",
    "print (lambdaa)"
   ]
  },
  {
   "cell_type": "code",
   "execution_count": 202,
   "metadata": {},
   "outputs": [
    {
     "name": "stdout",
     "output_type": "stream",
     "text": [
      "0.003620114259856327\n"
     ]
    }
   ],
   "source": [
    "print (u)"
   ]
  },
  {
   "cell_type": "code",
   "execution_count": 203,
   "metadata": {},
   "outputs": [],
   "source": [
    "import numpy as np"
   ]
  },
  {
   "cell_type": "code",
   "execution_count": 204,
   "metadata": {},
   "outputs": [],
   "source": [
    "import matplotlib.pyplot as plt"
   ]
  },
  {
   "cell_type": "code",
   "execution_count": 205,
   "metadata": {},
   "outputs": [],
   "source": [
    "x = np.sort (duracao_servico_sem_outliers[\"intervalo_entre_chamados_Ari_Franco\"])"
   ]
  },
  {
   "cell_type": "code",
   "execution_count": 206,
   "metadata": {},
   "outputs": [],
   "source": [
    "y = np.arange (1, len(x) + 1)/len(x)"
   ]
  },
  {
   "cell_type": "code",
   "execution_count": 207,
   "metadata": {},
   "outputs": [
    {
     "data": {
      "image/png": "[encoded data removed]",
      "text/plain": [
       "<Figure size 432x288 with 1 Axes>"
      ]
     },
     "metadata": {},
     "output_type": "display_data"
    }
   ],
   "source": [
    "_ = plt.xlabel ('intervalo entre chamados Ari Franco_lambda')\n",
    "_ = plt.ylabel ('função distribuição acumulada')\n",
    "_ = plt.plot (x,y, marker = '.', linestyle = 'none')"
   ]
  },
  {
   "cell_type": "markdown",
   "metadata": {},
   "source": [
    "## <center> Teoria de filas <center>"
   ]
  },
  {
   "cell_type": "code",
   "execution_count": 208,
   "metadata": {},
   "outputs": [
    {
     "name": "stdout",
     "output_type": "stream",
     "text": [
      "lambdaa é 0.009627837716038638\n",
      "u é 0.003620114259856327\n"
     ]
    }
   ],
   "source": [
    "#lambda > u, logo vamos precisar de mais de 1 servidor, modelo M/M/C. Vamos resgatar os parâmetros \n",
    "#já calculados\n",
    "\n",
    "print(\"lambdaa é\", lambdaa)\n",
    "\n",
    "print(\"u é\", u)"
   ]
  },
  {
   "cell_type": "code",
   "execution_count": 209,
   "metadata": {},
   "outputs": [
    {
     "name": "stdout",
     "output_type": "stream",
     "text": [
      "2.6595397340913607\n"
     ]
    }
   ],
   "source": [
    "#o rou, fator de utilização, deve ser menor que 1, caso contrário a fila será infinita e todos os\n",
    "#servidores estarão sempre ocupadas. Vamos supor que seja exatamente igual a 1\n",
    "\n",
    "c = lambdaa/u\n",
    "\n",
    "print (c)"
   ]
  },
  {
   "cell_type": "code",
   "execution_count": 287,
   "metadata": {},
   "outputs": [
    {
     "name": "stdout",
     "output_type": "stream",
     "text": [
      "3\n"
     ]
    }
   ],
   "source": [
    "import math\n",
    "\n",
    "c = math.ceil (c)\n",
    "\n",
    "print(c)"
   ]
  },
  {
   "cell_type": "code",
   "execution_count": 288,
   "metadata": {},
   "outputs": [
    {
     "name": "stdout",
     "output_type": "stream",
     "text": [
      "o fator de utiliação para três servidores é 0.8865132446971202\n"
     ]
    }
   ],
   "source": [
    "# vamos precisar de no mínimo 3 servidores para que o sistema seja estável, vamos calcular os parâmetros da teoria de filas para 3 servidores e ve se atendem ao DEC do conjunto\n",
    "\n",
    "rou = lambdaa/(c*u)\n",
    "\n",
    "print(\"o fator de utiliação para três servidores é\", rou)\n"
   ]
  },
  {
   "cell_type": "code",
   "execution_count": 289,
   "metadata": {},
   "outputs": [
    {
     "name": "stdout",
     "output_type": "stream",
     "text": [
      "7.196115532696734\n"
     ]
    }
   ],
   "source": [
    "#calculo do termo 1 da formula do po\n",
    "\n",
    "somar_até = c - 1 \n",
    "soma = 0\n",
    "i=0\n",
    "while i <= somar_até:\n",
    "        termo = (math.pow ((lambdaa/u),i))/math.factorial(i)\n",
    "        soma = soma + termo\n",
    "        i=i+1\n",
    "print (soma)"
   ]
  },
  {
   "cell_type": "code",
   "execution_count": 291,
   "metadata": {},
   "outputs": [
    {
     "name": "stdout",
     "output_type": "stream",
     "text": [
      "27.626318841978563\n"
     ]
    }
   ],
   "source": [
    "#calculo do termo 2 da fórmula do po \n",
    "\n",
    "#https://www.ime.unicamp.br/~nancy/Cursos/me501/filas_final.pdf\n",
    "\n",
    "termo2 = math.pow((lambdaa/u),c)/(math.factorial(c)*(1-rou))\n",
    "\n",
    "print(termo2)"
   ]
  },
  {
   "cell_type": "code",
   "execution_count": 292,
   "metadata": {},
   "outputs": [
    {
     "name": "stdout",
     "output_type": "stream",
     "text": [
      "0.028717119235272436\n"
     ]
    }
   ],
   "source": [
    "#de posse dos dois termos calcula-se o p0\n",
    "\n",
    "p0 = math.pow((soma + termo2),(-1))\n",
    "\n",
    "print(p0)"
   ]
  },
  {
   "cell_type": "code",
   "execution_count": 293,
   "metadata": {},
   "outputs": [
    {
     "name": "stdout",
     "output_type": "stream",
     "text": [
      "6.197320267294178\n"
     ]
    }
   ],
   "source": [
    "#número de chamados na fila\n",
    "\n",
    "Lq = (rou * math.pow((lambdaa/u),c) * p0)/(math.factorial(c)*math.pow((1-rou),2))   \n",
    "\n",
    "print (Lq)"
   ]
  },
  {
   "cell_type": "code",
   "execution_count": 294,
   "metadata": {},
   "outputs": [
    {
     "name": "stdout",
     "output_type": "stream",
     "text": [
      "643.6876534562173\n"
     ]
    }
   ],
   "source": [
    "#tempo de espera de um chamado na fila, excluindo o tempo execução do serviço\n",
    "\n",
    "wq = (math.pow((lambdaa/u),c)*p0)/(math.factorial(c)*c*u*math.pow((1-rou),2))\n",
    "\n",
    "print (wq)\n"
   ]
  },
  {
   "cell_type": "code",
   "execution_count": 295,
   "metadata": {},
   "outputs": [
    {
     "name": "stdout",
     "output_type": "stream",
     "text": [
      "919.9220284562173\n"
     ]
    }
   ],
   "source": [
    "# nesse problema é interessante conhecer o tempo em que o chamado fica no sistema (na fila + execução do serviço), o que equivale ao tempo de duração equivalente da interrupção (DEC)\n",
    "\n",
    "w = wq + (1/u) \n",
    "\n",
    "print (w)"
   ]
  },
  {
   "cell_type": "code",
   "execution_count": 296,
   "metadata": {},
   "outputs": [
    {
     "name": "stdout",
     "output_type": "stream",
     "text": [
      "15.33203380760362\n"
     ]
    }
   ],
   "source": [
    "#vamos calcular o w em horas\n",
    "\n",
    "w_horas = w/60\n",
    "\n",
    "print(w_horas)"
   ]
  },
  {
   "cell_type": "markdown",
   "metadata": {},
   "source": [
    "## a meta de DEC desse conjunto é 2,7 e o W_horas é 15,33; vamos precisar redimensionar o número de equipes"
   ]
  },
  {
   "cell_type": "code",
   "execution_count": 316,
   "metadata": {},
   "outputs": [
    {
     "name": "stdout",
     "output_type": "stream",
     "text": [
      "rou é 0.8865132446971202\n",
      "p0 é 0.028717119235272436\n",
      "Lq é 6.197320267294178\n",
      "wq é 643.6876534562173\n",
      "w_horas é 15.33203380760362\n"
     ]
    }
   ],
   "source": [
    "c=3\n",
    "\n",
    "rou = lambdaa/(c*u)\n",
    "\n",
    "somar_até = c - 1 \n",
    "soma = 0\n",
    "i=0\n",
    "while i <= somar_até:\n",
    "        termo = (math.pow ((lambdaa/u),i))/math.factorial(i)\n",
    "        soma = soma + termo\n",
    "        i=i+1\n",
    "termo2 = math.pow((lambdaa/u),c)/(math.factorial(c)*(1-rou))\n",
    "p0 = math.pow((soma + termo2),(-1))\n",
    "\n",
    "Lq = (rou * math.pow((lambdaa/u),c) * p0)/(math.factorial(c)*math.pow((1-rou),2))\n",
    "\n",
    "wq = (math.pow((lambdaa/u),c)*p0)/(math.factorial(c)*c*u*math.pow((1-rou),2))\n",
    "\n",
    "w_horas = (wq + (1/u))/60 \n",
    "\n",
    "print(\"rou é\", rou)\n",
    "print(\"p0 é\", p0)\n",
    "print(\"Lq é\", Lq)\n",
    "print (\"wq é\", wq)\n",
    "print (\"w_horas é\", w_horas)\n"
   ]
  },
  {
   "cell_type": "code",
   "execution_count": 304,
   "metadata": {},
   "outputs": [
    {
     "name": "stdout",
     "output_type": "stream",
     "text": [
      "rou é 0.6648849335228402\n",
      "p0 é 0.06041649362488917\n",
      "Lq é 0.7456393030541757\n",
      "wq é 77.44618522308951\n",
      "w_horas é 5.894676003718159\n"
     ]
    }
   ],
   "source": [
    "c=4\n",
    "\n",
    "rou = lambdaa/(c*u)\n",
    "\n",
    "somar_até = c - 1 \n",
    "soma = 0\n",
    "i=0\n",
    "while i <= somar_até:\n",
    "        termo = (math.pow ((lambdaa/u),i))/math.factorial(i)\n",
    "        soma = soma + termo\n",
    "        i=i+1\n",
    "termo2 = math.pow((lambdaa/u),c)/(math.factorial(c)*(1-rou))\n",
    "p0 = math.pow((soma + termo2),(-1))\n",
    "\n",
    "Lq = (rou * math.pow((lambdaa/u),c) * p0)/(math.factorial(c)*math.pow((1-rou),2))\n",
    "\n",
    "wq = (math.pow((lambdaa/u),c)*p0)/(math.factorial(c)*c*u*math.pow((1-rou),2))\n",
    "\n",
    "w_horas = (wq + (1/u))/60 \n",
    "\n",
    "print(\"rou é\", rou)\n",
    "print(\"p0 é\", p0)\n",
    "print(\"Lq é\", Lq)\n",
    "print (\"wq é\", wq)\n",
    "print (\"w_horas é\", w_horas)\n",
    "\n",
    "\n"
   ]
  },
  {
   "cell_type": "code",
   "execution_count": 305,
   "metadata": {},
   "outputs": [
    {
     "name": "stdout",
     "output_type": "stream",
     "text": [
      "rou é 0.5319079468182721\n",
      "p0 é 0.06763771018901035\n",
      "Lq é 0.18205977798722778\n",
      "wq é 18.90972649901873\n",
      "w_horas é 4.919068358316979\n"
     ]
    }
   ],
   "source": [
    "c=5\n",
    "\n",
    "rou = lambdaa/(c*u)\n",
    "\n",
    "somar_até = c - 1 \n",
    "soma = 0\n",
    "i=0\n",
    "while i <= somar_até:\n",
    "        termo = (math.pow ((lambdaa/u),i))/math.factorial(i)\n",
    "        soma = soma + termo\n",
    "        i=i+1\n",
    "termo2 = math.pow((lambdaa/u),c)/(math.factorial(c)*(1-rou))\n",
    "p0 = math.pow((soma + termo2),(-1))\n",
    "\n",
    "Lq = (rou * math.pow((lambdaa/u),c) * p0)/(math.factorial(c)*math.pow((1-rou),2))\n",
    "\n",
    "wq = (math.pow((lambdaa/u),c)*p0)/(math.factorial(c)*c*u*math.pow((1-rou),2))\n",
    "\n",
    "w_horas = (wq + (1/u))/60 \n",
    "\n",
    "print(\"rou é\", rou)\n",
    "print(\"p0 é\", p0)\n",
    "print(\"Lq é\", Lq)\n",
    "print (\"wq é\", wq)\n",
    "print (\"w_horas é\", w_horas)\n"
   ]
  },
  {
   "cell_type": "code",
   "execution_count": 306,
   "metadata": {},
   "outputs": [
    {
     "name": "stdout",
     "output_type": "stream",
     "text": [
      "rou é 0.4432566223485601\n",
      "p0 é 0.06940843561204535\n",
      "Lq é 0.04878246835590217\n",
      "wq é 5.066814563631184\n",
      "w_horas é 4.688353159393853\n"
     ]
    }
   ],
   "source": [
    "c=6\n",
    "\n",
    "rou = lambdaa/(c*u)\n",
    "\n",
    "somar_até = c - 1 \n",
    "soma = 0\n",
    "i=0\n",
    "while i <= somar_até:\n",
    "        termo = (math.pow ((lambdaa/u),i))/math.factorial(i)\n",
    "        soma = soma + termo\n",
    "        i=i+1\n",
    "termo2 = math.pow((lambdaa/u),c)/(math.factorial(c)*(1-rou))\n",
    "p0 = math.pow((soma + termo2),(-1))\n",
    "\n",
    "Lq = (rou * math.pow((lambdaa/u),c) * p0)/(math.factorial(c)*math.pow((1-rou),2))\n",
    "\n",
    "wq = (math.pow((lambdaa/u),c)*p0)/(math.factorial(c)*c*u*math.pow((1-rou),2))\n",
    "\n",
    "w_horas = (wq + (1/u))/60 \n",
    "\n",
    "print(\"rou é\", rou)\n",
    "print(\"p0 é\", p0)\n",
    "print(\"Lq é\", Lq)\n",
    "print (\"wq é\", wq)\n",
    "print (\"w_horas é\", w_horas)"
   ]
  },
  {
   "cell_type": "code",
   "execution_count": 307,
   "metadata": {},
   "outputs": [
    {
     "name": "stdout",
     "output_type": "stream",
     "text": [
      "rou é 0.37993424772733725\n",
      "p0 é 0.06984547575181269\n",
      "Lq é 0.012888016366835304\n",
      "wq é 1.338620025279992\n",
      "w_horas é 4.626216583754666\n"
     ]
    }
   ],
   "source": [
    "c=7\n",
    "\n",
    "rou = lambdaa/(c*u)\n",
    "\n",
    "somar_até = c - 1 \n",
    "soma = 0\n",
    "i=0\n",
    "while i <= somar_até:\n",
    "        termo = (math.pow ((lambdaa/u),i))/math.factorial(i)\n",
    "        soma = soma + termo\n",
    "        i=i+1\n",
    "termo2 = math.pow((lambdaa/u),c)/(math.factorial(c)*(1-rou))\n",
    "p0 = math.pow((soma + termo2),(-1))\n",
    "\n",
    "Lq = (rou * math.pow((lambdaa/u),c) * p0)/(math.factorial(c)*math.pow((1-rou),2))\n",
    "\n",
    "wq = (math.pow((lambdaa/u),c)*p0)/(math.factorial(c)*c*u*math.pow((1-rou),2))\n",
    "\n",
    "w_horas = (wq + (1/u))/60 \n",
    "\n",
    "print(\"rou é\", rou)\n",
    "print(\"p0 é\", p0)\n",
    "print(\"Lq é\", Lq)\n",
    "print (\"wq é\", wq)\n",
    "print (\"w_horas é\", w_horas)"
   ]
  },
  {
   "cell_type": "code",
   "execution_count": 308,
   "metadata": {},
   "outputs": [
    {
     "name": "stdout",
     "output_type": "stream",
     "text": [
      "rou é 0.3324424667614201\n",
      "p0 é 0.06995014853613632\n",
      "Lq é 0.0032393589668190653\n",
      "wq é 0.33645757877937055\n",
      "w_horas é 4.609513876312989\n"
     ]
    }
   ],
   "source": [
    "c=8\n",
    "\n",
    "rou = lambdaa/(c*u)\n",
    "\n",
    "somar_até = c - 1 \n",
    "soma = 0\n",
    "i=0\n",
    "while i <= somar_até:\n",
    "        termo = (math.pow ((lambdaa/u),i))/math.factorial(i)\n",
    "        soma = soma + termo\n",
    "        i=i+1\n",
    "termo2 = math.pow((lambdaa/u),c)/(math.factorial(c)*(1-rou))\n",
    "p0 = math.pow((soma + termo2),(-1))\n",
    "\n",
    "Lq = (rou * math.pow((lambdaa/u),c) * p0)/(math.factorial(c)*math.pow((1-rou),2))\n",
    "\n",
    "wq = (math.pow((lambdaa/u),c)*p0)/(math.factorial(c)*c*u*math.pow((1-rou),2))\n",
    "\n",
    "w_horas = (wq + (1/u))/60 \n",
    "\n",
    "print(\"rou é\", rou)\n",
    "print(\"p0 é\", p0)\n",
    "print(\"Lq é\", Lq)\n",
    "print (\"wq é\", wq)\n",
    "print (\"w_horas é\", w_horas)"
   ]
  },
  {
   "cell_type": "code",
   "execution_count": 309,
   "metadata": {},
   "outputs": [
    {
     "name": "stdout",
     "output_type": "stream",
     "text": [
      "rou é 0.29550441489904006\n",
      "p0 é 0.06997401366468604\n",
      "Lq é 0.0007642571721847837\n",
      "wq é 0.07937993916449565\n",
      "w_horas é 4.605229248986075\n"
     ]
    }
   ],
   "source": [
    "c=9\n",
    "\n",
    "rou = lambdaa/(c*u)\n",
    "\n",
    "somar_até = c - 1 \n",
    "soma = 0\n",
    "i=0\n",
    "while i <= somar_até:\n",
    "        termo = (math.pow ((lambdaa/u),i))/math.factorial(i)\n",
    "        soma = soma + termo\n",
    "        i=i+1\n",
    "termo2 = math.pow((lambdaa/u),c)/(math.factorial(c)*(1-rou))\n",
    "p0 = math.pow((soma + termo2),(-1))\n",
    "\n",
    "Lq = (rou * math.pow((lambdaa/u),c) * p0)/(math.factorial(c)*math.pow((1-rou),2))\n",
    "\n",
    "wq = (math.pow((lambdaa/u),c)*p0)/(math.factorial(c)*c*u*math.pow((1-rou),2))\n",
    "\n",
    "w_horas = (wq + (1/u))/60 \n",
    "\n",
    "print(\"rou é\", rou)\n",
    "print(\"p0 é\", p0)\n",
    "print(\"Lq é\", Lq)\n",
    "print (\"wq é\", wq)\n",
    "print (\"w_horas é\", w_horas)"
   ]
  },
  {
   "cell_type": "code",
   "execution_count": 315,
   "metadata": {},
   "outputs": [
    {
     "name": "stdout",
     "output_type": "stream",
     "text": [
      "rou é 0.026595397340913606\n",
      "p0 é 0.06998042393671149\n",
      "Lq é 6.365623119524263e-119\n",
      "wq é 6.611685102377682e-117\n",
      "w_horas é 4.60390625\n"
     ]
    }
   ],
   "source": [
    "c=100\n",
    "\n",
    "rou = lambdaa/(c*u)\n",
    "\n",
    "somar_até = c - 1 \n",
    "soma = 0\n",
    "i=0\n",
    "while i <= somar_até:\n",
    "        termo = (math.pow ((lambdaa/u),i))/math.factorial(i)\n",
    "        soma = soma + termo\n",
    "        i=i+1\n",
    "termo2 = math.pow((lambdaa/u),c)/(math.factorial(c)*(1-rou))\n",
    "p0 = math.pow((soma + termo2),(-1))\n",
    "\n",
    "Lq = (rou * math.pow((lambdaa/u),c) * p0)/(math.factorial(c)*math.pow((1-rou),2))\n",
    "\n",
    "wq = (math.pow((lambdaa/u),c)*p0)/(math.factorial(c)*c*u*math.pow((1-rou),2))\n",
    "\n",
    "w_horas = (wq + (1/u))/60 \n",
    "\n",
    "print(\"rou é\", rou)\n",
    "print(\"p0 é\", p0)\n",
    "print(\"Lq é\", Lq)\n",
    "print (\"wq é\", wq)\n",
    "print (\"w_horas é\", w_horas)"
   ]
  },
  {
   "cell_type": "code",
   "execution_count": null,
   "metadata": {},
   "outputs": [],
   "source": []
  }
 ],
 "metadata": {
  "kernelspec": {
   "display_name": "Python 3",
   "language": "python",
   "name": "python3"
  },
  "language_info": {
   "codemirror_mode": {
    "name": "ipython",
    "version": 3
   },
   "file_extension": ".py",
   "mimetype": "text/x-python",
   "name": "python",
   "nbconvert_exporter": "python",
   "pygments_lexer": "ipython3",
   "version": "3.6.5"
  }
 },
 "nbformat": 4,
 "nbformat_minor": 2
}
